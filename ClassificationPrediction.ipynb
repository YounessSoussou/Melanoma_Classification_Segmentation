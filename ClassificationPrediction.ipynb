{
 "cells": [
  {
   "cell_type": "code",
   "execution_count": 1,
   "id": "e9f44093",
   "metadata": {},
   "outputs": [],
   "source": [
    "%matplotlib inline\n",
    "\n",
    "import matplotlib.pyplot as plt\n",
    "import numpy as np\n",
    "import pandas as pd\n",
    "import os\n",
    "\n",
    "from glob import glob\n",
    "import seaborn as sns\n",
    "\n",
    "from PIL import Image\n",
    "np.random.seed(123)\n",
    "\n",
    "from sklearn.preprocessing import label_binarize\n",
    "from sklearn.metrics import confusion_matrix\n",
    "from sklearn.model_selection import train_test_split\n",
    "from sklearn.model_selection import train_test_split\n",
    "\n",
    "import shutil\n",
    "import itertools\n",
    "\n",
    "import pandas as pd\n",
    "import numpy as np\n",
    "import keras\n",
    "from keras import backend as K\n",
    "\n",
    "import tensorflow\n",
    "from keras.layers import Dense, Dropout\n",
    "from keras.optimizers import Adam\n",
    "from keras.metrics import categorical_crossentropy\n",
    "from keras.models import Model\n",
    "from keras.callbacks import EarlyStopping, ReduceLROnPlateau, ModelCheckpoint\n",
    "from numba import jit, cuda "
   ]
  },
  {
   "cell_type": "code",
   "execution_count": 2,
   "id": "dd6101d2",
   "metadata": {},
   "outputs": [
    {
     "name": "stdout",
     "output_type": "stream",
     "text": [
      "[PhysicalDevice(name='/physical_device:GPU:0', device_type='GPU')]\n"
     ]
    }
   ],
   "source": [
    "print(tensorflow.config.list_physical_devices('GPU'))\n"
   ]
  },
  {
   "cell_type": "code",
   "execution_count": 4,
   "id": "fcc31bf1",
   "metadata": {},
   "outputs": [
    {
     "name": "stdout",
     "output_type": "stream",
     "text": [
      "tf.Tensor(-1497.1289, shape=(), dtype=float32)\n"
     ]
    }
   ],
   "source": [
    "print(tensorflow.reduce_sum(tensorflow.random.normal([1000, 1000])))"
   ]
  },
  {
   "cell_type": "code",
   "execution_count": 5,
   "id": "b56ac057",
   "metadata": {},
   "outputs": [
    {
     "name": "stdout",
     "output_type": "stream",
     "text": [
      "Num GPUs Available:  1\n"
     ]
    }
   ],
   "source": [
    "import tensorflow as tf\n",
    "print(\"Num GPUs Available: \", len(tf.config.list_physical_devices('GPU')))"
   ]
  },
  {
   "cell_type": "code",
   "execution_count": 6,
   "id": "11c4a586",
   "metadata": {},
   "outputs": [],
   "source": [
    "root_path = 'Data'\n",
    "train_path = 'Data/ISIC_2019_Training_Input'"
   ]
  },
  {
   "cell_type": "code",
   "execution_count": null,
   "id": "856eaa8b",
   "metadata": {},
   "outputs": [],
   "source": []
  },
  {
   "cell_type": "code",
   "execution_count": 4,
   "id": "c92872f3",
   "metadata": {},
   "outputs": [],
   "source": [
    "# Create a new directory\n",
    "base_dir = 'base_dir'\n",
    "os.mkdir(base_dir)"
   ]
  },
  {
   "cell_type": "code",
   "execution_count": 5,
   "id": "df4225c0",
   "metadata": {},
   "outputs": [],
   "source": [
    "# create a path to 'base_dir' to which we will join the names of the new folders\n",
    "# train_dir\n",
    "train_dir = os.path.join(base_dir, 'train_dir')\n",
    "os.mkdir(train_dir)\n",
    "\n",
    "# val_dir\n",
    "val_dir = os.path.join(base_dir, 'val_dir')\n",
    "os.mkdir(val_dir)"
   ]
  },
  {
   "cell_type": "code",
   "execution_count": 6,
   "id": "a77ccd6a",
   "metadata": {},
   "outputs": [],
   "source": [
    "# [CREATE FOLDERS INSIDE THE TRAIN, VALIDATION AND TEST FOLDERS]\n",
    "# Inside each folder we create seperate folders for each class\n",
    "\n",
    "# create new folders inside train_dir\n",
    "nv = os.path.join(train_dir, 'NV')\n",
    "os.mkdir(nv)\n",
    "mel = os.path.join(train_dir, 'MEL')\n",
    "os.mkdir(mel)\n",
    "bkl = os.path.join(train_dir, 'BKL')\n",
    "os.mkdir(bkl)\n",
    "bcc = os.path.join(train_dir, 'BCC')\n",
    "os.mkdir(bcc)\n",
    "akiec = os.path.join(train_dir, 'AK')\n",
    "os.mkdir(akiec)\n",
    "vasc = os.path.join(train_dir, 'VASC')\n",
    "os.mkdir(vasc)\n",
    "df = os.path.join(train_dir, 'DF')\n",
    "os.mkdir(df)\n",
    "df = os.path.join(train_dir, 'SCC')\n",
    "os.mkdir(df)\n",
    "df = os.path.join(train_dir, 'UNK')\n",
    "os.mkdir(df)"
   ]
  },
  {
   "cell_type": "code",
   "execution_count": 7,
   "id": "31b373a4",
   "metadata": {},
   "outputs": [],
   "source": [
    "# create new folders inside val_dir\n",
    "nv = os.path.join(val_dir, 'NV')\n",
    "os.mkdir(nv)\n",
    "mel = os.path.join(val_dir, 'MEL')\n",
    "os.mkdir(mel)\n",
    "bkl = os.path.join(val_dir, 'BKL')\n",
    "os.mkdir(bkl)\n",
    "bcc = os.path.join(val_dir, 'BCC')\n",
    "os.mkdir(bcc)\n",
    "akiec = os.path.join(val_dir, 'AK')\n",
    "os.mkdir(akiec)\n",
    "vasc = os.path.join(val_dir, 'VASC')\n",
    "os.mkdir(vasc)\n",
    "df = os.path.join(val_dir, 'DF')\n",
    "os.mkdir(df)\n",
    "df = os.path.join(val_dir, 'SCC')\n",
    "os.mkdir(df)\n",
    "df = os.path.join(val_dir, 'UNK')\n",
    "os.mkdir(df)"
   ]
  },
  {
   "cell_type": "code",
   "execution_count": 7,
   "id": "bc6bde78",
   "metadata": {},
   "outputs": [
    {
     "data": {
      "text/html": [
       "<div>\n",
       "<style scoped>\n",
       "    .dataframe tbody tr th:only-of-type {\n",
       "        vertical-align: middle;\n",
       "    }\n",
       "\n",
       "    .dataframe tbody tr th {\n",
       "        vertical-align: top;\n",
       "    }\n",
       "\n",
       "    .dataframe thead th {\n",
       "        text-align: right;\n",
       "    }\n",
       "</style>\n",
       "<table border=\"1\" class=\"dataframe\">\n",
       "  <thead>\n",
       "    <tr style=\"text-align: right;\">\n",
       "      <th></th>\n",
       "      <th>image</th>\n",
       "      <th>age_approx</th>\n",
       "      <th>anatom_site_general</th>\n",
       "      <th>lesion_id</th>\n",
       "      <th>sex</th>\n",
       "    </tr>\n",
       "  </thead>\n",
       "  <tbody>\n",
       "    <tr>\n",
       "      <th>0</th>\n",
       "      <td>ISIC_0000000</td>\n",
       "      <td>55.0</td>\n",
       "      <td>anterior torso</td>\n",
       "      <td>NaN</td>\n",
       "      <td>female</td>\n",
       "    </tr>\n",
       "    <tr>\n",
       "      <th>1</th>\n",
       "      <td>ISIC_0000001</td>\n",
       "      <td>30.0</td>\n",
       "      <td>anterior torso</td>\n",
       "      <td>NaN</td>\n",
       "      <td>female</td>\n",
       "    </tr>\n",
       "    <tr>\n",
       "      <th>2</th>\n",
       "      <td>ISIC_0000002</td>\n",
       "      <td>60.0</td>\n",
       "      <td>upper extremity</td>\n",
       "      <td>NaN</td>\n",
       "      <td>female</td>\n",
       "    </tr>\n",
       "    <tr>\n",
       "      <th>3</th>\n",
       "      <td>ISIC_0000003</td>\n",
       "      <td>30.0</td>\n",
       "      <td>upper extremity</td>\n",
       "      <td>NaN</td>\n",
       "      <td>male</td>\n",
       "    </tr>\n",
       "    <tr>\n",
       "      <th>4</th>\n",
       "      <td>ISIC_0000004</td>\n",
       "      <td>80.0</td>\n",
       "      <td>posterior torso</td>\n",
       "      <td>NaN</td>\n",
       "      <td>male</td>\n",
       "    </tr>\n",
       "  </tbody>\n",
       "</table>\n",
       "</div>"
      ],
      "text/plain": [
       "          image  age_approx anatom_site_general lesion_id     sex\n",
       "0  ISIC_0000000        55.0      anterior torso       NaN  female\n",
       "1  ISIC_0000001        30.0      anterior torso       NaN  female\n",
       "2  ISIC_0000002        60.0     upper extremity       NaN  female\n",
       "3  ISIC_0000003        30.0     upper extremity       NaN    male\n",
       "4  ISIC_0000004        80.0     posterior torso       NaN    male"
      ]
     },
     "execution_count": 7,
     "metadata": {},
     "output_type": "execute_result"
    }
   ],
   "source": [
    "metadata_path = 'ISIC_2019_Training_Metadata.csv'\n",
    "df_meta = pd.read_csv(metadata_path)\n",
    "df_meta.head()"
   ]
  },
  {
   "cell_type": "code",
   "execution_count": 8,
   "id": "2f0698d2",
   "metadata": {},
   "outputs": [
    {
     "data": {
      "text/html": [
       "<div>\n",
       "<style scoped>\n",
       "    .dataframe tbody tr th:only-of-type {\n",
       "        vertical-align: middle;\n",
       "    }\n",
       "\n",
       "    .dataframe tbody tr th {\n",
       "        vertical-align: top;\n",
       "    }\n",
       "\n",
       "    .dataframe thead th {\n",
       "        text-align: right;\n",
       "    }\n",
       "</style>\n",
       "<table border=\"1\" class=\"dataframe\">\n",
       "  <thead>\n",
       "    <tr style=\"text-align: right;\">\n",
       "      <th></th>\n",
       "      <th>image</th>\n",
       "      <th>MEL</th>\n",
       "      <th>NV</th>\n",
       "      <th>BCC</th>\n",
       "      <th>AK</th>\n",
       "      <th>BKL</th>\n",
       "      <th>DF</th>\n",
       "      <th>VASC</th>\n",
       "      <th>SCC</th>\n",
       "      <th>UNK</th>\n",
       "    </tr>\n",
       "  </thead>\n",
       "  <tbody>\n",
       "    <tr>\n",
       "      <th>0</th>\n",
       "      <td>ISIC_0000000</td>\n",
       "      <td>0.0</td>\n",
       "      <td>1.0</td>\n",
       "      <td>0.0</td>\n",
       "      <td>0.0</td>\n",
       "      <td>0.0</td>\n",
       "      <td>0.0</td>\n",
       "      <td>0.0</td>\n",
       "      <td>0.0</td>\n",
       "      <td>0.0</td>\n",
       "    </tr>\n",
       "    <tr>\n",
       "      <th>1</th>\n",
       "      <td>ISIC_0000001</td>\n",
       "      <td>0.0</td>\n",
       "      <td>1.0</td>\n",
       "      <td>0.0</td>\n",
       "      <td>0.0</td>\n",
       "      <td>0.0</td>\n",
       "      <td>0.0</td>\n",
       "      <td>0.0</td>\n",
       "      <td>0.0</td>\n",
       "      <td>0.0</td>\n",
       "    </tr>\n",
       "    <tr>\n",
       "      <th>2</th>\n",
       "      <td>ISIC_0000002</td>\n",
       "      <td>1.0</td>\n",
       "      <td>0.0</td>\n",
       "      <td>0.0</td>\n",
       "      <td>0.0</td>\n",
       "      <td>0.0</td>\n",
       "      <td>0.0</td>\n",
       "      <td>0.0</td>\n",
       "      <td>0.0</td>\n",
       "      <td>0.0</td>\n",
       "    </tr>\n",
       "    <tr>\n",
       "      <th>3</th>\n",
       "      <td>ISIC_0000003</td>\n",
       "      <td>0.0</td>\n",
       "      <td>1.0</td>\n",
       "      <td>0.0</td>\n",
       "      <td>0.0</td>\n",
       "      <td>0.0</td>\n",
       "      <td>0.0</td>\n",
       "      <td>0.0</td>\n",
       "      <td>0.0</td>\n",
       "      <td>0.0</td>\n",
       "    </tr>\n",
       "    <tr>\n",
       "      <th>4</th>\n",
       "      <td>ISIC_0000004</td>\n",
       "      <td>1.0</td>\n",
       "      <td>0.0</td>\n",
       "      <td>0.0</td>\n",
       "      <td>0.0</td>\n",
       "      <td>0.0</td>\n",
       "      <td>0.0</td>\n",
       "      <td>0.0</td>\n",
       "      <td>0.0</td>\n",
       "      <td>0.0</td>\n",
       "    </tr>\n",
       "  </tbody>\n",
       "</table>\n",
       "</div>"
      ],
      "text/plain": [
       "          image  MEL   NV  BCC   AK  BKL   DF  VASC  SCC  UNK\n",
       "0  ISIC_0000000  0.0  1.0  0.0  0.0  0.0  0.0   0.0  0.0  0.0\n",
       "1  ISIC_0000001  0.0  1.0  0.0  0.0  0.0  0.0   0.0  0.0  0.0\n",
       "2  ISIC_0000002  1.0  0.0  0.0  0.0  0.0  0.0   0.0  0.0  0.0\n",
       "3  ISIC_0000003  0.0  1.0  0.0  0.0  0.0  0.0   0.0  0.0  0.0\n",
       "4  ISIC_0000004  1.0  0.0  0.0  0.0  0.0  0.0   0.0  0.0  0.0"
      ]
     },
     "execution_count": 8,
     "metadata": {},
     "output_type": "execute_result"
    }
   ],
   "source": [
    "gt_path = 'ISIC_2019_Training_GroundTruth.csv'\n",
    "df_gt = pd.read_csv(gt_path)\n",
    "df_gt.head()"
   ]
  },
  {
   "cell_type": "code",
   "execution_count": 10,
   "id": "f05af1db",
   "metadata": {},
   "outputs": [],
   "source": [
    "df_cell_type = pd.DataFrame([x for x in np.where(df_gt == 1, df_gt.columns,'').flatten().tolist() if len(x) > 0], columns= ([\"dx\"]))"
   ]
  },
  {
   "cell_type": "code",
   "execution_count": 11,
   "id": "5cd509a7",
   "metadata": {},
   "outputs": [
    {
     "data": {
      "text/html": [
       "<div>\n",
       "<style scoped>\n",
       "    .dataframe tbody tr th:only-of-type {\n",
       "        vertical-align: middle;\n",
       "    }\n",
       "\n",
       "    .dataframe tbody tr th {\n",
       "        vertical-align: top;\n",
       "    }\n",
       "\n",
       "    .dataframe thead th {\n",
       "        text-align: right;\n",
       "    }\n",
       "</style>\n",
       "<table border=\"1\" class=\"dataframe\">\n",
       "  <thead>\n",
       "    <tr style=\"text-align: right;\">\n",
       "      <th></th>\n",
       "      <th>dx</th>\n",
       "    </tr>\n",
       "  </thead>\n",
       "  <tbody>\n",
       "    <tr>\n",
       "      <th>0</th>\n",
       "      <td>NV</td>\n",
       "    </tr>\n",
       "    <tr>\n",
       "      <th>1</th>\n",
       "      <td>NV</td>\n",
       "    </tr>\n",
       "    <tr>\n",
       "      <th>2</th>\n",
       "      <td>MEL</td>\n",
       "    </tr>\n",
       "    <tr>\n",
       "      <th>3</th>\n",
       "      <td>NV</td>\n",
       "    </tr>\n",
       "    <tr>\n",
       "      <th>4</th>\n",
       "      <td>MEL</td>\n",
       "    </tr>\n",
       "  </tbody>\n",
       "</table>\n",
       "</div>"
      ],
      "text/plain": [
       "    dx\n",
       "0   NV\n",
       "1   NV\n",
       "2  MEL\n",
       "3   NV\n",
       "4  MEL"
      ]
     },
     "execution_count": 11,
     "metadata": {},
     "output_type": "execute_result"
    }
   ],
   "source": [
    "df_cell_type.head()"
   ]
  },
  {
   "cell_type": "code",
   "execution_count": 12,
   "id": "69b08489",
   "metadata": {},
   "outputs": [
    {
     "data": {
      "text/html": [
       "<div>\n",
       "<style scoped>\n",
       "    .dataframe tbody tr th:only-of-type {\n",
       "        vertical-align: middle;\n",
       "    }\n",
       "\n",
       "    .dataframe tbody tr th {\n",
       "        vertical-align: top;\n",
       "    }\n",
       "\n",
       "    .dataframe thead th {\n",
       "        text-align: right;\n",
       "    }\n",
       "</style>\n",
       "<table border=\"1\" class=\"dataframe\">\n",
       "  <thead>\n",
       "    <tr style=\"text-align: right;\">\n",
       "      <th></th>\n",
       "      <th>image</th>\n",
       "      <th>age_approx</th>\n",
       "      <th>anatom_site_general</th>\n",
       "      <th>lesion_id</th>\n",
       "      <th>sex</th>\n",
       "      <th>dx</th>\n",
       "    </tr>\n",
       "  </thead>\n",
       "  <tbody>\n",
       "    <tr>\n",
       "      <th>0</th>\n",
       "      <td>ISIC_0000000</td>\n",
       "      <td>55.0</td>\n",
       "      <td>anterior torso</td>\n",
       "      <td>NaN</td>\n",
       "      <td>female</td>\n",
       "      <td>NV</td>\n",
       "    </tr>\n",
       "    <tr>\n",
       "      <th>1</th>\n",
       "      <td>ISIC_0000001</td>\n",
       "      <td>30.0</td>\n",
       "      <td>anterior torso</td>\n",
       "      <td>NaN</td>\n",
       "      <td>female</td>\n",
       "      <td>NV</td>\n",
       "    </tr>\n",
       "    <tr>\n",
       "      <th>2</th>\n",
       "      <td>ISIC_0000002</td>\n",
       "      <td>60.0</td>\n",
       "      <td>upper extremity</td>\n",
       "      <td>NaN</td>\n",
       "      <td>female</td>\n",
       "      <td>MEL</td>\n",
       "    </tr>\n",
       "    <tr>\n",
       "      <th>3</th>\n",
       "      <td>ISIC_0000003</td>\n",
       "      <td>30.0</td>\n",
       "      <td>upper extremity</td>\n",
       "      <td>NaN</td>\n",
       "      <td>male</td>\n",
       "      <td>NV</td>\n",
       "    </tr>\n",
       "    <tr>\n",
       "      <th>4</th>\n",
       "      <td>ISIC_0000004</td>\n",
       "      <td>80.0</td>\n",
       "      <td>posterior torso</td>\n",
       "      <td>NaN</td>\n",
       "      <td>male</td>\n",
       "      <td>MEL</td>\n",
       "    </tr>\n",
       "  </tbody>\n",
       "</table>\n",
       "</div>"
      ],
      "text/plain": [
       "          image  age_approx anatom_site_general lesion_id     sex   dx\n",
       "0  ISIC_0000000        55.0      anterior torso       NaN  female   NV\n",
       "1  ISIC_0000001        30.0      anterior torso       NaN  female   NV\n",
       "2  ISIC_0000002        60.0     upper extremity       NaN  female  MEL\n",
       "3  ISIC_0000003        30.0     upper extremity       NaN    male   NV\n",
       "4  ISIC_0000004        80.0     posterior torso       NaN    male  MEL"
      ]
     },
     "execution_count": 12,
     "metadata": {},
     "output_type": "execute_result"
    }
   ],
   "source": [
    "df = pd.concat([df_meta, df_cell_type], axis=1, join='inner')\n",
    "df.head()"
   ]
  },
  {
   "cell_type": "code",
   "execution_count": 13,
   "id": "c37aca76",
   "metadata": {},
   "outputs": [
    {
     "data": {
      "text/plain": [
       "image                     0\n",
       "age_approx              437\n",
       "anatom_site_general    2631\n",
       "lesion_id              2084\n",
       "sex                     384\n",
       "dx                        0\n",
       "dtype: int64"
      ]
     },
     "execution_count": 13,
     "metadata": {},
     "output_type": "execute_result"
    }
   ],
   "source": [
    "df.isnull().sum()"
   ]
  },
  {
   "cell_type": "code",
   "execution_count": 14,
   "id": "db68c4fc",
   "metadata": {},
   "outputs": [],
   "source": [
    "df['age_approx'].fillna((df['age_approx'].mean()), inplace=True)"
   ]
  },
  {
   "cell_type": "code",
   "execution_count": 15,
   "id": "b1dad658",
   "metadata": {},
   "outputs": [],
   "source": [
    "df.dropna(subset=['anatom_site_general', 'lesion_id', 'sex'], inplace=True)"
   ]
  },
  {
   "cell_type": "code",
   "execution_count": 16,
   "id": "62bbf5e2",
   "metadata": {},
   "outputs": [
    {
     "data": {
      "text/plain": [
       "image                  0\n",
       "age_approx             0\n",
       "anatom_site_general    0\n",
       "lesion_id              0\n",
       "sex                    0\n",
       "dx                     0\n",
       "dtype: int64"
      ]
     },
     "execution_count": 16,
     "metadata": {},
     "output_type": "execute_result"
    }
   ],
   "source": [
    "df.isnull().sum()"
   ]
  },
  {
   "cell_type": "code",
   "execution_count": 18,
   "id": "1c329e63",
   "metadata": {},
   "outputs": [
    {
     "data": {
      "text/plain": [
       "1459    ISIC_0012653_downsampled\n",
       "1460    ISIC_0012654_downsampled\n",
       "1461    ISIC_0012655_downsampled\n",
       "1462    ISIC_0012656_downsampled\n",
       "1463    ISIC_0012657_downsampled\n",
       "Name: image, dtype: object"
      ]
     },
     "execution_count": 18,
     "metadata": {},
     "output_type": "execute_result"
    }
   ],
   "source": [
    "df['image'].head()"
   ]
  },
  {
   "cell_type": "code",
   "execution_count": 19,
   "id": "4c1d948d",
   "metadata": {},
   "outputs": [
    {
     "data": {
      "text/html": [
       "<div>\n",
       "<style scoped>\n",
       "    .dataframe tbody tr th:only-of-type {\n",
       "        vertical-align: middle;\n",
       "    }\n",
       "\n",
       "    .dataframe tbody tr th {\n",
       "        vertical-align: top;\n",
       "    }\n",
       "\n",
       "    .dataframe thead th {\n",
       "        text-align: right;\n",
       "    }\n",
       "</style>\n",
       "<table border=\"1\" class=\"dataframe\">\n",
       "  <thead>\n",
       "    <tr style=\"text-align: right;\">\n",
       "      <th></th>\n",
       "      <th>image</th>\n",
       "      <th>age_approx</th>\n",
       "      <th>anatom_site_general</th>\n",
       "      <th>lesion_id</th>\n",
       "      <th>sex</th>\n",
       "      <th>dx</th>\n",
       "      <th>path</th>\n",
       "      <th>cell_type</th>\n",
       "      <th>cell_type_idx</th>\n",
       "    </tr>\n",
       "  </thead>\n",
       "  <tbody>\n",
       "    <tr>\n",
       "      <th>25326</th>\n",
       "      <td>ISIC_0073247</td>\n",
       "      <td>85.0</td>\n",
       "      <td>head/neck</td>\n",
       "      <td>BCN_0003925</td>\n",
       "      <td>female</td>\n",
       "      <td>BCC</td>\n",
       "      <td>Data\\ISIC_2019_Training_Input\\ISIC_0073247.jpg</td>\n",
       "      <td>Basal cell carcinoma</td>\n",
       "      <td>1</td>\n",
       "    </tr>\n",
       "    <tr>\n",
       "      <th>25327</th>\n",
       "      <td>ISIC_0073248</td>\n",
       "      <td>65.0</td>\n",
       "      <td>anterior torso</td>\n",
       "      <td>BCN_0001819</td>\n",
       "      <td>male</td>\n",
       "      <td>BKL</td>\n",
       "      <td>Data\\ISIC_2019_Training_Input\\ISIC_0073248.jpg</td>\n",
       "      <td>Benign keratosis-like lesions</td>\n",
       "      <td>2</td>\n",
       "    </tr>\n",
       "    <tr>\n",
       "      <th>25328</th>\n",
       "      <td>ISIC_0073249</td>\n",
       "      <td>70.0</td>\n",
       "      <td>lower extremity</td>\n",
       "      <td>BCN_0001085</td>\n",
       "      <td>male</td>\n",
       "      <td>MEL</td>\n",
       "      <td>Data\\ISIC_2019_Training_Input\\ISIC_0073249.jpg</td>\n",
       "      <td>Melanoma</td>\n",
       "      <td>5</td>\n",
       "    </tr>\n",
       "    <tr>\n",
       "      <th>25329</th>\n",
       "      <td>ISIC_0073251</td>\n",
       "      <td>55.0</td>\n",
       "      <td>palms/soles</td>\n",
       "      <td>BCN_0002083</td>\n",
       "      <td>female</td>\n",
       "      <td>NV</td>\n",
       "      <td>Data\\ISIC_2019_Training_Input\\ISIC_0073251.jpg</td>\n",
       "      <td>Melanocytic nevi</td>\n",
       "      <td>4</td>\n",
       "    </tr>\n",
       "    <tr>\n",
       "      <th>25330</th>\n",
       "      <td>ISIC_0073254</td>\n",
       "      <td>50.0</td>\n",
       "      <td>upper extremity</td>\n",
       "      <td>BCN_0001079</td>\n",
       "      <td>male</td>\n",
       "      <td>BKL</td>\n",
       "      <td>Data\\ISIC_2019_Training_Input\\ISIC_0073254.jpg</td>\n",
       "      <td>Benign keratosis-like lesions</td>\n",
       "      <td>2</td>\n",
       "    </tr>\n",
       "  </tbody>\n",
       "</table>\n",
       "</div>"
      ],
      "text/plain": [
       "              image  age_approx anatom_site_general    lesion_id     sex   dx  \\\n",
       "25326  ISIC_0073247        85.0           head/neck  BCN_0003925  female  BCC   \n",
       "25327  ISIC_0073248        65.0      anterior torso  BCN_0001819    male  BKL   \n",
       "25328  ISIC_0073249        70.0     lower extremity  BCN_0001085    male  MEL   \n",
       "25329  ISIC_0073251        55.0         palms/soles  BCN_0002083  female   NV   \n",
       "25330  ISIC_0073254        50.0     upper extremity  BCN_0001079    male  BKL   \n",
       "\n",
       "                                                 path  \\\n",
       "25326  Data\\ISIC_2019_Training_Input\\ISIC_0073247.jpg   \n",
       "25327  Data\\ISIC_2019_Training_Input\\ISIC_0073248.jpg   \n",
       "25328  Data\\ISIC_2019_Training_Input\\ISIC_0073249.jpg   \n",
       "25329  Data\\ISIC_2019_Training_Input\\ISIC_0073251.jpg   \n",
       "25330  Data\\ISIC_2019_Training_Input\\ISIC_0073254.jpg   \n",
       "\n",
       "                            cell_type  cell_type_idx  \n",
       "25326            Basal cell carcinoma              1  \n",
       "25327  Benign keratosis-like lesions               2  \n",
       "25328                        Melanoma              5  \n",
       "25329                Melanocytic nevi              4  \n",
       "25330  Benign keratosis-like lesions               2  "
      ]
     },
     "execution_count": 19,
     "metadata": {},
     "output_type": "execute_result"
    }
   ],
   "source": [
    "imageid_path_dict = {os.path.splitext(os.path.basename(x))[0]: x\n",
    "                     for x in glob(os.path.join(root_path, '*', '*.jpg'))}\n",
    "\n",
    "lesion_type_dict = {\n",
    "    'NV': 'Melanocytic nevi',\n",
    "    'MEL': 'Melanoma',\n",
    "    'BKL': 'Benign keratosis-like lesions ',\n",
    "    'BCC': 'Basal cell carcinoma',\n",
    "    'AK': 'Actinic keratoses',\n",
    "    'VASC': 'Vascular lesions',\n",
    "    'DF': 'Dermatofibroma',\n",
    "    'SCC': 'Squamous cell carcinoma',\n",
    "    'UNK': 'None of the others'\n",
    "}\n",
    "\n",
    "# Creating New Columns for better readability\n",
    "\n",
    "df['path'] = df['image'].map(imageid_path_dict.get)\n",
    "df['cell_type'] = df['dx'].map(lesion_type_dict.get) \n",
    "df['cell_type_idx'] = pd.Categorical(df['cell_type']).codes\n",
    "\n",
    "df.tail()"
   ]
  },
  {
   "cell_type": "code",
   "execution_count": 20,
   "id": "30095168",
   "metadata": {},
   "outputs": [
    {
     "data": {
      "text/plain": [
       "<Axes: >"
      ]
     },
     "execution_count": 20,
     "metadata": {},
     "output_type": "execute_result"
    },
    {
     "data": {
      "image/png": "[encoded data removed]",
      "text/plain": [
       "<Figure size 1000x500 with 1 Axes>"
      ]
     },
     "metadata": {},
     "output_type": "display_data"
    }
   ],
   "source": [
    "# Distribution of 9 classes\n",
    "fig, ax1 = plt.subplots(1, 1, figsize= (10, 5))\n",
    "df['cell_type'].value_counts().plot(kind='bar', ax=ax1)"
   ]
  },
  {
   "cell_type": "code",
   "execution_count": 21,
   "id": "330c25ec",
   "metadata": {},
   "outputs": [
    {
     "data": {
      "text/plain": [
       "<Axes: >"
      ]
     },
     "execution_count": 21,
     "metadata": {},
     "output_type": "execute_result"
    },
    {
     "data": {
      "image/png": "[encoded data removed]",
      "text/plain": [
       "<Figure size 640x480 with 1 Axes>"
      ]
     },
     "metadata": {},
     "output_type": "display_data"
    }
   ],
   "source": [
    "# Plotting the distribution of localization field\n",
    "df['anatom_site_general'].value_counts().plot(kind='bar')"
   ]
  },
  {
   "cell_type": "code",
   "execution_count": 22,
   "id": "65931352",
   "metadata": {},
   "outputs": [
    {
     "data": {
      "text/plain": [
       "<Axes: >"
      ]
     },
     "execution_count": 22,
     "metadata": {},
     "output_type": "execute_result"
    },
    {
     "data": {
      "image/png": "[encoded data removed]",
      "text/plain": [
       "<Figure size 640x480 with 1 Axes>"
      ]
     },
     "metadata": {},
     "output_type": "display_data"
    }
   ],
   "source": [
    "# Check the distribution of Age\n",
    "df['age_approx'].hist(bins=25)"
   ]
  },
  {
   "cell_type": "code",
   "execution_count": 23,
   "id": "fdf26d1e",
   "metadata": {},
   "outputs": [
    {
     "data": {
      "text/plain": [
       "<Axes: >"
      ]
     },
     "execution_count": 23,
     "metadata": {},
     "output_type": "execute_result"
    },
    {
     "data": {
      "image/png": "[encoded data removed]",
      "text/plain": [
       "<Figure size 640x480 with 1 Axes>"
      ]
     },
     "metadata": {},
     "output_type": "display_data"
    }
   ],
   "source": [
    "# Distribution of males and females\n",
    "df['sex'].value_counts().plot(kind='bar')"
   ]
  },
  {
   "cell_type": "code",
   "execution_count": 24,
   "id": "27e03b49",
   "metadata": {},
   "outputs": [
    {
     "data": {
      "text/html": [
       "<div>\n",
       "<style scoped>\n",
       "    .dataframe tbody tr th:only-of-type {\n",
       "        vertical-align: middle;\n",
       "    }\n",
       "\n",
       "    .dataframe tbody tr th {\n",
       "        vertical-align: top;\n",
       "    }\n",
       "\n",
       "    .dataframe thead th {\n",
       "        text-align: right;\n",
       "    }\n",
       "</style>\n",
       "<table border=\"1\" class=\"dataframe\">\n",
       "  <thead>\n",
       "    <tr style=\"text-align: right;\">\n",
       "      <th></th>\n",
       "      <th>lesion_id</th>\n",
       "      <th>image</th>\n",
       "      <th>age_approx</th>\n",
       "      <th>anatom_site_general</th>\n",
       "      <th>sex</th>\n",
       "      <th>dx</th>\n",
       "      <th>path</th>\n",
       "      <th>cell_type</th>\n",
       "      <th>cell_type_idx</th>\n",
       "    </tr>\n",
       "  </thead>\n",
       "  <tbody>\n",
       "    <tr>\n",
       "      <th>0</th>\n",
       "      <td>BCN_0000013</td>\n",
       "      <td>1</td>\n",
       "      <td>1</td>\n",
       "      <td>1</td>\n",
       "      <td>1</td>\n",
       "      <td>1</td>\n",
       "      <td>1</td>\n",
       "      <td>1</td>\n",
       "      <td>1</td>\n",
       "    </tr>\n",
       "    <tr>\n",
       "      <th>1</th>\n",
       "      <td>BCN_0000020</td>\n",
       "      <td>1</td>\n",
       "      <td>1</td>\n",
       "      <td>1</td>\n",
       "      <td>1</td>\n",
       "      <td>1</td>\n",
       "      <td>1</td>\n",
       "      <td>1</td>\n",
       "      <td>1</td>\n",
       "    </tr>\n",
       "    <tr>\n",
       "      <th>2</th>\n",
       "      <td>BCN_0000039</td>\n",
       "      <td>1</td>\n",
       "      <td>1</td>\n",
       "      <td>1</td>\n",
       "      <td>1</td>\n",
       "      <td>1</td>\n",
       "      <td>1</td>\n",
       "      <td>1</td>\n",
       "      <td>1</td>\n",
       "    </tr>\n",
       "    <tr>\n",
       "      <th>3</th>\n",
       "      <td>BCN_0000053</td>\n",
       "      <td>1</td>\n",
       "      <td>1</td>\n",
       "      <td>1</td>\n",
       "      <td>1</td>\n",
       "      <td>1</td>\n",
       "      <td>1</td>\n",
       "      <td>1</td>\n",
       "      <td>1</td>\n",
       "    </tr>\n",
       "    <tr>\n",
       "      <th>4</th>\n",
       "      <td>BCN_0000059</td>\n",
       "      <td>1</td>\n",
       "      <td>1</td>\n",
       "      <td>1</td>\n",
       "      <td>1</td>\n",
       "      <td>1</td>\n",
       "      <td>1</td>\n",
       "      <td>1</td>\n",
       "      <td>1</td>\n",
       "    </tr>\n",
       "  </tbody>\n",
       "</table>\n",
       "</div>"
      ],
      "text/plain": [
       "     lesion_id  image  age_approx  anatom_site_general  sex  dx  path  \\\n",
       "0  BCN_0000013      1           1                    1    1   1     1   \n",
       "1  BCN_0000020      1           1                    1    1   1     1   \n",
       "2  BCN_0000039      1           1                    1    1   1     1   \n",
       "3  BCN_0000053      1           1                    1    1   1     1   \n",
       "4  BCN_0000059      1           1                    1    1   1     1   \n",
       "\n",
       "   cell_type  cell_type_idx  \n",
       "0          1              1  \n",
       "1          1              1  \n",
       "2          1              1  \n",
       "3          1              1  \n",
       "4          1              1  "
      ]
     },
     "execution_count": 24,
     "metadata": {},
     "output_type": "execute_result"
    }
   ],
   "source": [
    "# this will tell us how many images are associated with each lesion_id\n",
    "df_ = df.groupby('lesion_id').count()\n",
    "\n",
    "# now we filter out lesion_id's that have only one image associated with it\n",
    "df_ = df_[df_['image'] == 1]\n",
    "\n",
    "df_.reset_index(inplace=True)\n",
    "\n",
    "df_.head()"
   ]
  },
  {
   "cell_type": "code",
   "execution_count": 25,
   "id": "b27463f4",
   "metadata": {},
   "outputs": [
    {
     "data": {
      "text/html": [
       "<div>\n",
       "<style scoped>\n",
       "    .dataframe tbody tr th:only-of-type {\n",
       "        vertical-align: middle;\n",
       "    }\n",
       "\n",
       "    .dataframe tbody tr th {\n",
       "        vertical-align: top;\n",
       "    }\n",
       "\n",
       "    .dataframe thead th {\n",
       "        text-align: right;\n",
       "    }\n",
       "</style>\n",
       "<table border=\"1\" class=\"dataframe\">\n",
       "  <thead>\n",
       "    <tr style=\"text-align: right;\">\n",
       "      <th></th>\n",
       "      <th>image</th>\n",
       "      <th>age_approx</th>\n",
       "      <th>anatom_site_general</th>\n",
       "      <th>lesion_id</th>\n",
       "      <th>sex</th>\n",
       "      <th>dx</th>\n",
       "      <th>path</th>\n",
       "      <th>cell_type</th>\n",
       "      <th>cell_type_idx</th>\n",
       "      <th>duplicates</th>\n",
       "    </tr>\n",
       "  </thead>\n",
       "  <tbody>\n",
       "    <tr>\n",
       "      <th>25326</th>\n",
       "      <td>ISIC_0073247</td>\n",
       "      <td>85.0</td>\n",
       "      <td>head/neck</td>\n",
       "      <td>BCN_0003925</td>\n",
       "      <td>female</td>\n",
       "      <td>BCC</td>\n",
       "      <td>Data\\ISIC_2019_Training_Input\\ISIC_0073247.jpg</td>\n",
       "      <td>Basal cell carcinoma</td>\n",
       "      <td>1</td>\n",
       "      <td>has_duplicates</td>\n",
       "    </tr>\n",
       "    <tr>\n",
       "      <th>25327</th>\n",
       "      <td>ISIC_0073248</td>\n",
       "      <td>65.0</td>\n",
       "      <td>anterior torso</td>\n",
       "      <td>BCN_0001819</td>\n",
       "      <td>male</td>\n",
       "      <td>BKL</td>\n",
       "      <td>Data\\ISIC_2019_Training_Input\\ISIC_0073248.jpg</td>\n",
       "      <td>Benign keratosis-like lesions</td>\n",
       "      <td>2</td>\n",
       "      <td>has_duplicates</td>\n",
       "    </tr>\n",
       "    <tr>\n",
       "      <th>25328</th>\n",
       "      <td>ISIC_0073249</td>\n",
       "      <td>70.0</td>\n",
       "      <td>lower extremity</td>\n",
       "      <td>BCN_0001085</td>\n",
       "      <td>male</td>\n",
       "      <td>MEL</td>\n",
       "      <td>Data\\ISIC_2019_Training_Input\\ISIC_0073249.jpg</td>\n",
       "      <td>Melanoma</td>\n",
       "      <td>5</td>\n",
       "      <td>has_duplicates</td>\n",
       "    </tr>\n",
       "    <tr>\n",
       "      <th>25329</th>\n",
       "      <td>ISIC_0073251</td>\n",
       "      <td>55.0</td>\n",
       "      <td>palms/soles</td>\n",
       "      <td>BCN_0002083</td>\n",
       "      <td>female</td>\n",
       "      <td>NV</td>\n",
       "      <td>Data\\ISIC_2019_Training_Input\\ISIC_0073251.jpg</td>\n",
       "      <td>Melanocytic nevi</td>\n",
       "      <td>4</td>\n",
       "      <td>has_duplicates</td>\n",
       "    </tr>\n",
       "    <tr>\n",
       "      <th>25330</th>\n",
       "      <td>ISIC_0073254</td>\n",
       "      <td>50.0</td>\n",
       "      <td>upper extremity</td>\n",
       "      <td>BCN_0001079</td>\n",
       "      <td>male</td>\n",
       "      <td>BKL</td>\n",
       "      <td>Data\\ISIC_2019_Training_Input\\ISIC_0073254.jpg</td>\n",
       "      <td>Benign keratosis-like lesions</td>\n",
       "      <td>2</td>\n",
       "      <td>has_duplicates</td>\n",
       "    </tr>\n",
       "  </tbody>\n",
       "</table>\n",
       "</div>"
      ],
      "text/plain": [
       "              image  age_approx anatom_site_general    lesion_id     sex   dx  \\\n",
       "25326  ISIC_0073247        85.0           head/neck  BCN_0003925  female  BCC   \n",
       "25327  ISIC_0073248        65.0      anterior torso  BCN_0001819    male  BKL   \n",
       "25328  ISIC_0073249        70.0     lower extremity  BCN_0001085    male  MEL   \n",
       "25329  ISIC_0073251        55.0         palms/soles  BCN_0002083  female   NV   \n",
       "25330  ISIC_0073254        50.0     upper extremity  BCN_0001079    male  BKL   \n",
       "\n",
       "                                                 path  \\\n",
       "25326  Data\\ISIC_2019_Training_Input\\ISIC_0073247.jpg   \n",
       "25327  Data\\ISIC_2019_Training_Input\\ISIC_0073248.jpg   \n",
       "25328  Data\\ISIC_2019_Training_Input\\ISIC_0073249.jpg   \n",
       "25329  Data\\ISIC_2019_Training_Input\\ISIC_0073251.jpg   \n",
       "25330  Data\\ISIC_2019_Training_Input\\ISIC_0073254.jpg   \n",
       "\n",
       "                            cell_type  cell_type_idx      duplicates  \n",
       "25326            Basal cell carcinoma              1  has_duplicates  \n",
       "25327  Benign keratosis-like lesions               2  has_duplicates  \n",
       "25328                        Melanoma              5  has_duplicates  \n",
       "25329                Melanocytic nevi              4  has_duplicates  \n",
       "25330  Benign keratosis-like lesions               2  has_duplicates  "
      ]
     },
     "execution_count": 25,
     "metadata": {},
     "output_type": "execute_result"
    }
   ],
   "source": [
    "# here we identify lesion_id's that have duplicate images and those that have only\n",
    "# one image.\n",
    "\n",
    "def identify_duplicates(x):\n",
    "    \n",
    "    unique_list = list(df_['lesion_id'])\n",
    "    \n",
    "    if x in unique_list:\n",
    "        return 'no_duplicates'\n",
    "    else:\n",
    "        return 'has_duplicates'\n",
    "    \n",
    "# create a new colum that is a copy of the lesion_id column\n",
    "df['duplicates'] = df['lesion_id']\n",
    "# apply the function to this new column\n",
    "df['duplicates'] = df['duplicates'].apply(identify_duplicates)\n",
    "\n",
    "df.tail()"
   ]
  },
  {
   "cell_type": "code",
   "execution_count": 26,
   "id": "e2815261",
   "metadata": {},
   "outputs": [
    {
     "data": {
      "text/plain": [
       "has_duplicates    15959\n",
       "no_duplicates      5357\n",
       "Name: duplicates, dtype: int64"
      ]
     },
     "execution_count": 26,
     "metadata": {},
     "output_type": "execute_result"
    }
   ],
   "source": [
    "df['duplicates'].value_counts()"
   ]
  },
  {
   "cell_type": "code",
   "execution_count": 27,
   "id": "b841a41c",
   "metadata": {},
   "outputs": [
    {
     "data": {
      "text/plain": [
       "(5357, 10)"
      ]
     },
     "execution_count": 27,
     "metadata": {},
     "output_type": "execute_result"
    }
   ],
   "source": [
    "# now we filter out images that don't have duplicates\n",
    "df_ = df[df['duplicates'] == 'no_duplicates']\n",
    "\n",
    "df_.shape"
   ]
  },
  {
   "cell_type": "code",
   "execution_count": 28,
   "id": "7fe564ba",
   "metadata": {},
   "outputs": [
    {
     "data": {
      "text/plain": [
       "(911, 10)"
      ]
     },
     "execution_count": 28,
     "metadata": {},
     "output_type": "execute_result"
    }
   ],
   "source": [
    "# now we create a val set using df because we are sure that none of these images\n",
    "# have augmented duplicates in the train set\n",
    "y = df_['dx']\n",
    "\n",
    "_, df_val = train_test_split(df_, test_size=0.17, random_state=101, stratify=y)\n",
    "\n",
    "df_val.shape"
   ]
  },
  {
   "cell_type": "code",
   "execution_count": 29,
   "id": "ac987a6d",
   "metadata": {},
   "outputs": [
    {
     "data": {
      "text/plain": [
       "NV      623\n",
       "BKL     107\n",
       "MEL      74\n",
       "BCC      60\n",
       "SCC      18\n",
       "AK       14\n",
       "VASC      8\n",
       "DF        7\n",
       "Name: dx, dtype: int64"
      ]
     },
     "execution_count": 29,
     "metadata": {},
     "output_type": "execute_result"
    }
   ],
   "source": [
    "df_val['dx'].value_counts()"
   ]
  },
  {
   "cell_type": "code",
   "execution_count": 30,
   "id": "f486f019",
   "metadata": {},
   "outputs": [
    {
     "name": "stdout",
     "output_type": "stream",
     "text": [
      "20405\n",
      "911\n"
     ]
    }
   ],
   "source": [
    "# This set will be df_data excluding all rows that are in the val set\n",
    "\n",
    "# This function identifies if an image is part of the train\n",
    "# or val set.\n",
    "def identify_val_rows(x):\n",
    "    # create a list of all the lesion_id's in the val set\n",
    "    val_list = list(df_val['image'])\n",
    "    \n",
    "    if str(x) in val_list:\n",
    "        return 'val'\n",
    "    else:\n",
    "        return 'train'\n",
    "\n",
    "# identify train and val rows\n",
    "\n",
    "# create a new colum that is a copy of the image_id column\n",
    "df['train_or_val'] = df['image']\n",
    "# apply the function to this new column\n",
    "df['train_or_val'] = df['train_or_val'].apply(identify_val_rows)\n",
    "   \n",
    "# filter out train rows\n",
    "df_train = df[df['train_or_val'] == 'train']\n",
    "\n",
    "\n",
    "print(len(df_train))\n",
    "print(len(df_val))"
   ]
  },
  {
   "cell_type": "code",
   "execution_count": 31,
   "id": "5954c926",
   "metadata": {},
   "outputs": [
    {
     "data": {
      "text/plain": [
       "NV      9128\n",
       "MEL     4027\n",
       "BCC     3185\n",
       "BKL     2188\n",
       "AK       831\n",
       "SCC      604\n",
       "DF       228\n",
       "VASC     214\n",
       "Name: dx, dtype: int64"
      ]
     },
     "execution_count": 31,
     "metadata": {},
     "output_type": "execute_result"
    }
   ],
   "source": [
    "df_train['dx'].value_counts()"
   ]
  },
  {
   "cell_type": "code",
   "execution_count": 32,
   "id": "65d55182",
   "metadata": {},
   "outputs": [
    {
     "data": {
      "text/plain": [
       "NV      623\n",
       "BKL     107\n",
       "MEL      74\n",
       "BCC      60\n",
       "SCC      18\n",
       "AK       14\n",
       "VASC      8\n",
       "DF        7\n",
       "Name: dx, dtype: int64"
      ]
     },
     "execution_count": 32,
     "metadata": {},
     "output_type": "execute_result"
    }
   ],
   "source": [
    "df_val['dx'].value_counts()"
   ]
  },
  {
   "cell_type": "code",
   "execution_count": 33,
   "id": "a2ccec1a",
   "metadata": {},
   "outputs": [],
   "source": [
    "# Set the image as the index in df_data\n",
    "df.set_index('image', inplace=True)"
   ]
  },
  {
   "cell_type": "code",
   "execution_count": 33,
   "id": "a2d20e4d",
   "metadata": {},
   "outputs": [],
   "source": [
    "# Get a list of images in the training folder\n",
    "folder = os.listdir(train_path)\n",
    "\n",
    "# Get a list of train and val images\n",
    "train_list = list(df_train['image'])\n",
    "val_list = list(df_val['image'])\n",
    "\n",
    "\n",
    "# Transfer the train images\n",
    "\n",
    "for image in train_list:\n",
    "    \n",
    "    fname = image + '.jpg'\n",
    "    label = df.loc[image,'dx']\n",
    "    \n",
    "    if fname in folder:\n",
    "        # source path to image\n",
    "        src = os.path.join(train_path, fname)\n",
    "        # destination path to image\n",
    "        dst = os.path.join(train_dir, label, fname)\n",
    "        # copy the image from the source to the destination\n",
    "        shutil.copyfile(src, dst)\n",
    "\n",
    "\n",
    "# Transfer the val images\n",
    "\n",
    "for image in val_list:\n",
    "    \n",
    "    fname = image + '.jpg'\n",
    "    label = df.loc[image,'dx']\n",
    "    \n",
    "    if fname in folder:\n",
    "        # source path to image\n",
    "        src = os.path.join(train_path, fname)\n",
    "        # destination path to image\n",
    "        dst = os.path.join(val_dir, label, fname)\n",
    "        # copy the image from the source to the destination\n",
    "        shutil.copyfile(src, dst)"
   ]
  },
  {
   "cell_type": "code",
   "execution_count": 34,
   "id": "d6a75558",
   "metadata": {},
   "outputs": [
    {
     "name": "stdout",
     "output_type": "stream",
     "text": [
      "9128\n",
      "4027\n",
      "2188\n",
      "3185\n",
      "831\n",
      "214\n",
      "228\n",
      "604\n",
      "0\n"
     ]
    }
   ],
   "source": [
    "# check how many train images we have in each folder\n",
    "\n",
    "print(len(os.listdir('base_dir/train_dir/NV')))\n",
    "print(len(os.listdir('base_dir/train_dir/MEL')))\n",
    "print(len(os.listdir('base_dir/train_dir/BKL')))\n",
    "print(len(os.listdir('base_dir/train_dir/BCC')))\n",
    "print(len(os.listdir('base_dir/train_dir/AK')))\n",
    "print(len(os.listdir('base_dir/train_dir/VASC')))\n",
    "print(len(os.listdir('base_dir/train_dir/DF')))\n",
    "print(len(os.listdir('base_dir/train_dir/SCC')))\n",
    "print(len(os.listdir('base_dir/train_dir/UNK')))"
   ]
  },
  {
   "cell_type": "code",
   "execution_count": 35,
   "id": "16d80945",
   "metadata": {},
   "outputs": [
    {
     "name": "stdout",
     "output_type": "stream",
     "text": [
      "623\n",
      "74\n",
      "107\n",
      "60\n",
      "14\n",
      "8\n",
      "7\n",
      "18\n",
      "0\n"
     ]
    }
   ],
   "source": [
    "# check how many val images we have in each folder\n",
    "\n",
    "print(len(os.listdir('base_dir/val_dir/NV')))\n",
    "print(len(os.listdir('base_dir/val_dir/MEL')))\n",
    "print(len(os.listdir('base_dir/val_dir/BKL')))\n",
    "print(len(os.listdir('base_dir/val_dir/BCC')))\n",
    "print(len(os.listdir('base_dir/val_dir/AK')))\n",
    "print(len(os.listdir('base_dir/val_dir/VASC')))\n",
    "print(len(os.listdir('base_dir/val_dir/DF')))\n",
    "print(len(os.listdir('base_dir/val_dir/SCC')))\n",
    "print(len(os.listdir('base_dir/val_dir/UNK')))"
   ]
  },
  {
   "cell_type": "code",
   "execution_count": 55,
   "id": "cd5ad1a7",
   "metadata": {},
   "outputs": [],
   "source": [
    "# Set Up the Generators\n",
    "train_path = 'base_dir/train_dir'\n",
    "valid_path = 'base_dir/val_dir'\n",
    "\n",
    "num_train_samples = len(df_train)\n",
    "num_val_samples = len(df_val)\n",
    "\n",
    "train_batch_size = 8\n",
    "val_batch_size = 8\n",
    "\n",
    "# image_size = 224\n",
    "image_size = 299\n",
    "\n",
    "train_steps = int(num_train_samples / train_batch_size)\n",
    "val_steps = int(num_val_samples / val_batch_size)"
   ]
  },
  {
   "cell_type": "code",
   "execution_count": null,
   "id": "a9d87164",
   "metadata": {},
   "outputs": [],
   "source": []
  },
  {
   "cell_type": "code",
   "execution_count": 56,
   "id": "977d510c",
   "metadata": {},
   "outputs": [],
   "source": [
    "from tensorflow.keras.preprocessing.image import ImageDataGenerator"
   ]
  },
  {
   "cell_type": "code",
   "execution_count": 57,
   "id": "0e37ff97",
   "metadata": {},
   "outputs": [
    {
     "name": "stdout",
     "output_type": "stream",
     "text": [
      "Found 20405 images belonging to 9 classes.\n",
      "Found 911 images belonging to 9 classes.\n",
      "Found 911 images belonging to 9 classes.\n"
     ]
    }
   ],
   "source": [
    "datagen = ImageDataGenerator(\n",
    "    preprocessing_function= \\\n",
    "    keras.applications.xception.preprocess_input)\n",
    "\n",
    "train_batches = datagen.flow_from_directory(train_path,\n",
    "                                            target_size=(image_size,image_size),\n",
    "                                            batch_size=train_batch_size)\n",
    "\n",
    "valid_batches = datagen.flow_from_directory(valid_path,\n",
    "                                            target_size=(image_size,image_size),\n",
    "                                            batch_size=val_batch_size)\n",
    "\n",
    "# Note: shuffle=False causes the test dataset to not be shuffled\n",
    "test_batches = datagen.flow_from_directory(valid_path,\n",
    "                                            target_size=(image_size,image_size),\n",
    "                                            batch_size=1,\n",
    "                                            shuffle=False)"
   ]
  },
  {
   "cell_type": "code",
   "execution_count": 58,
   "id": "6d18d695",
   "metadata": {},
   "outputs": [],
   "source": [
    "class_weights = {\n",
    "    0: 1.0,  # AK\n",
    "    1: 1.0,  # BCC\n",
    "    2: 1.0,  # BKL\n",
    "    3: 1.0,  # DF\n",
    "    4: 1.0,  # MEL\n",
    "    5: 1.0,  # NV\n",
    "    6: 1.0,  # SCC\n",
    "    7: 1.0,  # UNK\n",
    "    8: 1.0,  # VASC\n",
    "}"
   ]
  },
  {
   "cell_type": "code",
   "execution_count": 59,
   "id": "2bb380c8",
   "metadata": {},
   "outputs": [],
   "source": [
    "# create a copy of a mobilenet model\n",
    "mobile = keras.applications.xception.Xception()"
   ]
  },
  {
   "cell_type": "code",
   "execution_count": 68,
   "id": "1fa60fa8",
   "metadata": {},
   "outputs": [],
   "source": [
    "# CREATE THE MODEL ARCHITECTURE\n",
    "\n",
    "# Exclude the last 5 layers of the above model.\n",
    "# This will include all layers up to and including global_average_pooling2d_1\n",
    "x = mobile.layers[-2].output\n",
    "\n",
    "# Create a new dense layer for predictions\n",
    "# 7 corresponds to the number of classes\n",
    "x = Dropout(0.25)(x)\n",
    "predictions = Dense(9, activation='softmax')(x)\n",
    "\n",
    "# inputs=mobile.input selects the input layer, outputs=predictions refers to the\n",
    "# dense layer we created above.\n",
    "\n",
    "model = Model(inputs=mobile.input, outputs=predictions)"
   ]
  },
  {
   "cell_type": "code",
   "execution_count": 69,
   "id": "e4189496",
   "metadata": {},
   "outputs": [],
   "source": [
    "for layer in model.layers[:-134]:\n",
    "    layer.trainable = False"
   ]
  },
  {
   "cell_type": "code",
   "execution_count": 70,
   "id": "431f14cf",
   "metadata": {},
   "outputs": [],
   "source": [
    "# Define Top2 and Top3 Accuracy\n",
    "\n",
    "from keras.metrics import categorical_accuracy, top_k_categorical_accuracy\n",
    "\n",
    "def top_3_accuracy(y_true, y_pred):\n",
    "    return top_k_categorical_accuracy(y_true, y_pred, k=3)\n",
    "\n",
    "def top_2_accuracy(y_true, y_pred):\n",
    "    return top_k_categorical_accuracy(y_true, y_pred, k=2)"
   ]
  },
  {
   "cell_type": "code",
   "execution_count": 71,
   "id": "f4a28df0",
   "metadata": {},
   "outputs": [],
   "source": [
    "from tensorflow.keras.optimizers.legacy import Adam\n",
    "\n",
    "run_opts = tf.compat.v1.RunOptions(report_tensor_allocations_upon_oom=True)\n",
    "\n",
    "model.compile(Adam(learning_rate=0.01), loss='categorical_crossentropy', \n",
    "              metrics=[categorical_accuracy, top_2_accuracy, top_3_accuracy])"
   ]
  },
  {
   "cell_type": "code",
   "execution_count": 72,
   "id": "0d936e88",
   "metadata": {},
   "outputs": [
    {
     "name": "stdout",
     "output_type": "stream",
     "text": [
      "{'AK': 0, 'BCC': 1, 'BKL': 2, 'DF': 3, 'MEL': 4, 'NV': 5, 'SCC': 6, 'UNK': 7, 'VASC': 8}\n"
     ]
    }
   ],
   "source": [
    "# Get the labels that are associated with each index\n",
    "print(valid_batches.class_indices)"
   ]
  },
  {
   "cell_type": "code",
   "execution_count": 73,
   "id": "f5abf507",
   "metadata": {},
   "outputs": [],
   "source": [
    "# Add weights to try to make the model more sensitive to melanoma\n",
    "\n",
    "class_weights = {\n",
    "    0: 1.0,  # AK\n",
    "    1: 1.0,  # BCC\n",
    "    2: 1.0,  # BKL\n",
    "    3: 1.0,  # DF\n",
    "    4: 5.0,  # MEL\n",
    "    5: 1.0,  # NV\n",
    "    6: 1.0,  # SCC\n",
    "    7: 1.0,  # UNK\n",
    "    8: 1.0,  # VASC\n",
    "}"
   ]
  },
  {
   "cell_type": "code",
   "execution_count": 74,
   "id": "d7c12fb9",
   "metadata": {},
   "outputs": [],
   "source": [
    "from tensorflow.keras import backend as K\n",
    "\n",
    "K.clear_session()\n"
   ]
  },
  {
   "cell_type": "code",
   "execution_count": 75,
   "id": "f24efc6d",
   "metadata": {
    "scrolled": true
   },
   "outputs": [
    {
     "name": "stdout",
     "output_type": "stream",
     "text": [
      "Epoch 1/30\n",
      "2550/2550 [==============================] - ETA: 0s - loss: 1.5873 - categorical_accuracy: 0.4449 - top_2_accuracy: 0.6367 - top_3_accuracy: 0.7917\n",
      "Epoch 1: val_top_3_accuracy improved from -inf to 0.83075, saving model to xception-134-trial03.keras\n",
      "2550/2550 [==============================] - 953s 372ms/step - loss: 1.5873 - categorical_accuracy: 0.4449 - top_2_accuracy: 0.6367 - top_3_accuracy: 0.7917 - val_loss: 2.0831 - val_categorical_accuracy: 0.6681 - val_top_2_accuracy: 0.7600 - val_top_3_accuracy: 0.8308 - lr: 0.0100\n",
      "Epoch 2/30\n",
      "2550/2550 [==============================] - ETA: 0s - loss: 1.4844 - categorical_accuracy: 0.4501 - top_2_accuracy: 0.6482 - top_3_accuracy: 0.7963\n",
      "Epoch 2: val_top_3_accuracy improved from 0.83075 to 0.86062, saving model to xception-134-trial03.keras\n",
      "2550/2550 [==============================] - 1018s 399ms/step - loss: 1.4844 - categorical_accuracy: 0.4501 - top_2_accuracy: 0.6482 - top_3_accuracy: 0.7963 - val_loss: 1.1588 - val_categorical_accuracy: 0.6327 - val_top_2_accuracy: 0.7788 - val_top_3_accuracy: 0.8606 - lr: 0.0100\n",
      "Epoch 3/30\n",
      "2550/2550 [==============================] - ETA: 0s - loss: 1.3269 - categorical_accuracy: 0.5140 - top_2_accuracy: 0.7176 - top_3_accuracy: 0.8312\n",
      "Epoch 3: val_top_3_accuracy improved from 0.86062 to 0.90265, saving model to xception-134-trial03.keras\n",
      "2550/2550 [==============================] - 585s 229ms/step - loss: 1.3269 - categorical_accuracy: 0.5140 - top_2_accuracy: 0.7176 - top_3_accuracy: 0.8312 - val_loss: 0.9325 - val_categorical_accuracy: 0.6759 - val_top_2_accuracy: 0.8009 - val_top_3_accuracy: 0.9027 - lr: 0.0100\n",
      "Epoch 4/30\n",
      "2550/2550 [==============================] - ETA: 0s - loss: 1.2433 - categorical_accuracy: 0.5553 - top_2_accuracy: 0.7389 - top_3_accuracy: 0.8458\n",
      "Epoch 4: val_top_3_accuracy did not improve from 0.90265\n",
      "2550/2550 [==============================] - 552s 216ms/step - loss: 1.2433 - categorical_accuracy: 0.5553 - top_2_accuracy: 0.7389 - top_3_accuracy: 0.8458 - val_loss: 0.8185 - val_categorical_accuracy: 0.6947 - val_top_2_accuracy: 0.8197 - val_top_3_accuracy: 0.9015 - lr: 0.0100\n",
      "Epoch 5/30\n",
      "2550/2550 [==============================] - ETA: 0s - loss: 1.1986 - categorical_accuracy: 0.5691 - top_2_accuracy: 0.7514 - top_3_accuracy: 0.8554\n",
      "Epoch 5: val_top_3_accuracy improved from 0.90265 to 0.91261, saving model to xception-134-trial03.keras\n",
      "2550/2550 [==============================] - 556s 218ms/step - loss: 1.1986 - categorical_accuracy: 0.5691 - top_2_accuracy: 0.7514 - top_3_accuracy: 0.8554 - val_loss: 0.8146 - val_categorical_accuracy: 0.7024 - val_top_2_accuracy: 0.8296 - val_top_3_accuracy: 0.9126 - lr: 0.0100\n",
      "Epoch 6/30\n",
      "2550/2550 [==============================] - ETA: 0s - loss: 1.1763 - categorical_accuracy: 0.5780 - top_2_accuracy: 0.7591 - top_3_accuracy: 0.8610\n",
      "Epoch 6: val_top_3_accuracy did not improve from 0.91261\n",
      "2550/2550 [==============================] - 558s 219ms/step - loss: 1.1763 - categorical_accuracy: 0.5780 - top_2_accuracy: 0.7591 - top_3_accuracy: 0.8610 - val_loss: 0.9790 - val_categorical_accuracy: 0.6847 - val_top_2_accuracy: 0.8153 - val_top_3_accuracy: 0.8960 - lr: 0.0100\n",
      "Epoch 7/30\n",
      "2550/2550 [==============================] - ETA: 0s - loss: 1.1451 - categorical_accuracy: 0.5877 - top_2_accuracy: 0.7695 - top_3_accuracy: 0.8708\n",
      "Epoch 7: val_top_3_accuracy improved from 0.91261 to 0.91593, saving model to xception-134-trial03.keras\n",
      "2550/2550 [==============================] - 562s 220ms/step - loss: 1.1451 - categorical_accuracy: 0.5877 - top_2_accuracy: 0.7695 - top_3_accuracy: 0.8708 - val_loss: 0.8004 - val_categorical_accuracy: 0.6969 - val_top_2_accuracy: 0.8308 - val_top_3_accuracy: 0.9159 - lr: 0.0100\n",
      "Epoch 8/30\n",
      "2550/2550 [==============================] - ETA: 0s - loss: 1.1205 - categorical_accuracy: 0.5948 - top_2_accuracy: 0.7772 - top_3_accuracy: 0.8762\n",
      "Epoch 8: val_top_3_accuracy improved from 0.91593 to 0.93031, saving model to xception-134-trial03.keras\n",
      "2550/2550 [==============================] - 593s 232ms/step - loss: 1.1205 - categorical_accuracy: 0.5948 - top_2_accuracy: 0.7772 - top_3_accuracy: 0.8762 - val_loss: 0.7633 - val_categorical_accuracy: 0.7378 - val_top_2_accuracy: 0.8628 - val_top_3_accuracy: 0.9303 - lr: 0.0100\n",
      "Epoch 9/30\n",
      "2550/2550 [==============================] - ETA: 0s - loss: 1.0844 - categorical_accuracy: 0.6071 - top_2_accuracy: 0.7902 - top_3_accuracy: 0.8865\n",
      "Epoch 9: val_top_3_accuracy did not improve from 0.93031\n",
      "2550/2550 [==============================] - 530s 208ms/step - loss: 1.0844 - categorical_accuracy: 0.6071 - top_2_accuracy: 0.7902 - top_3_accuracy: 0.8865 - val_loss: 0.8103 - val_categorical_accuracy: 0.7279 - val_top_2_accuracy: 0.8285 - val_top_3_accuracy: 0.9038 - lr: 0.0100\n",
      "Epoch 10/30\n",
      "2550/2550 [==============================] - ETA: 0s - loss: 1.0583 - categorical_accuracy: 0.6209 - top_2_accuracy: 0.7976 - top_3_accuracy: 0.8931\n",
      "Epoch 10: val_top_3_accuracy improved from 0.93031 to 0.93584, saving model to xception-134-trial03.keras\n",
      "2550/2550 [==============================] - 529s 207ms/step - loss: 1.0583 - categorical_accuracy: 0.6209 - top_2_accuracy: 0.7976 - top_3_accuracy: 0.8931 - val_loss: 0.7294 - val_categorical_accuracy: 0.7356 - val_top_2_accuracy: 0.8529 - val_top_3_accuracy: 0.9358 - lr: 0.0100\n",
      "Epoch 11/30\n",
      "2550/2550 [==============================] - ETA: 0s - loss: 1.0229 - categorical_accuracy: 0.6310 - top_2_accuracy: 0.8089 - top_3_accuracy: 0.9010\n",
      "Epoch 11: val_top_3_accuracy did not improve from 0.93584\n",
      "2550/2550 [==============================] - 539s 211ms/step - loss: 1.0229 - categorical_accuracy: 0.6310 - top_2_accuracy: 0.8089 - top_3_accuracy: 0.9010 - val_loss: 0.7684 - val_categorical_accuracy: 0.7179 - val_top_2_accuracy: 0.8296 - val_top_3_accuracy: 0.9137 - lr: 0.0100\n",
      "Epoch 12/30\n",
      "2550/2550 [==============================] - ETA: 0s - loss: 1.0007 - categorical_accuracy: 0.6363 - top_2_accuracy: 0.8155 - top_3_accuracy: 0.9078\n",
      "Epoch 12: val_top_3_accuracy did not improve from 0.93584\n",
      "\n",
      "Epoch 12: ReduceLROnPlateau reducing learning rate to 0.004999999888241291.\n",
      "2550/2550 [==============================] - 550s 216ms/step - loss: 1.0007 - categorical_accuracy: 0.6363 - top_2_accuracy: 0.8155 - top_3_accuracy: 0.9078 - val_loss: 0.6766 - val_categorical_accuracy: 0.7511 - val_top_2_accuracy: 0.8706 - val_top_3_accuracy: 0.9347 - lr: 0.0100\n",
      "Epoch 13/30\n",
      "2550/2550 [==============================] - ETA: 0s - loss: 0.9229 - categorical_accuracy: 0.6642 - top_2_accuracy: 0.8373 - top_3_accuracy: 0.9222\n",
      "Epoch 13: val_top_3_accuracy improved from 0.93584 to 0.95243, saving model to xception-134-trial03.keras\n",
      "2550/2550 [==============================] - 566s 222ms/step - loss: 0.9229 - categorical_accuracy: 0.6642 - top_2_accuracy: 0.8373 - top_3_accuracy: 0.9222 - val_loss: 0.6424 - val_categorical_accuracy: 0.7721 - val_top_2_accuracy: 0.8706 - val_top_3_accuracy: 0.9524 - lr: 0.0050\n",
      "Epoch 14/30\n",
      "2550/2550 [==============================] - ETA: 0s - loss: 0.8835 - categorical_accuracy: 0.6749 - top_2_accuracy: 0.8474 - top_3_accuracy: 0.9317\n",
      "Epoch 14: val_top_3_accuracy did not improve from 0.95243\n",
      "2550/2550 [==============================] - 544s 213ms/step - loss: 0.8835 - categorical_accuracy: 0.6749 - top_2_accuracy: 0.8474 - top_3_accuracy: 0.9317 - val_loss: 0.6298 - val_categorical_accuracy: 0.7765 - val_top_2_accuracy: 0.8827 - val_top_3_accuracy: 0.9513 - lr: 0.0050\n",
      "Epoch 15/30\n",
      "2550/2550 [==============================] - ETA: 0s - loss: 0.8481 - categorical_accuracy: 0.6902 - top_2_accuracy: 0.8595 - top_3_accuracy: 0.9380\n",
      "Epoch 15: val_top_3_accuracy did not improve from 0.95243\n",
      "\n",
      "Epoch 15: ReduceLROnPlateau reducing learning rate to 0.0024999999441206455.\n",
      "2550/2550 [==============================] - 535s 210ms/step - loss: 0.8481 - categorical_accuracy: 0.6902 - top_2_accuracy: 0.8595 - top_3_accuracy: 0.9380 - val_loss: 0.6677 - val_categorical_accuracy: 0.7644 - val_top_2_accuracy: 0.8827 - val_top_3_accuracy: 0.9502 - lr: 0.0050\n",
      "Epoch 16/30\n"
     ]
    },
    {
     "name": "stdout",
     "output_type": "stream",
     "text": [
      "2550/2550 [==============================] - ETA: 0s - loss: 0.7692 - categorical_accuracy: 0.7171 - top_2_accuracy: 0.8810 - top_3_accuracy: 0.9497\n",
      "Epoch 16: val_top_3_accuracy improved from 0.95243 to 0.95686, saving model to xception-134-trial03.keras\n",
      "2550/2550 [==============================] - 558s 219ms/step - loss: 0.7692 - categorical_accuracy: 0.7171 - top_2_accuracy: 0.8810 - top_3_accuracy: 0.9497 - val_loss: 0.6307 - val_categorical_accuracy: 0.7821 - val_top_2_accuracy: 0.8905 - val_top_3_accuracy: 0.9569 - lr: 0.0025\n",
      "Epoch 17/30\n",
      "2550/2550 [==============================] - ETA: 0s - loss: 0.7308 - categorical_accuracy: 0.7289 - top_2_accuracy: 0.8908 - top_3_accuracy: 0.9559\n",
      "Epoch 17: val_top_3_accuracy did not improve from 0.95686\n",
      "2550/2550 [==============================] - 533s 209ms/step - loss: 0.7308 - categorical_accuracy: 0.7289 - top_2_accuracy: 0.8908 - top_3_accuracy: 0.9559 - val_loss: 0.6284 - val_categorical_accuracy: 0.7677 - val_top_2_accuracy: 0.8872 - val_top_3_accuracy: 0.9535 - lr: 0.0025\n",
      "Epoch 18/30\n",
      "2550/2550 [==============================] - ETA: 0s - loss: 0.6934 - categorical_accuracy: 0.7464 - top_2_accuracy: 0.8995 - top_3_accuracy: 0.9613\n",
      "Epoch 18: val_top_3_accuracy did not improve from 0.95686\n",
      "\n",
      "Epoch 18: ReduceLROnPlateau reducing learning rate to 0.0012499999720603228.\n",
      "2550/2550 [==============================] - 617s 242ms/step - loss: 0.6934 - categorical_accuracy: 0.7464 - top_2_accuracy: 0.8995 - top_3_accuracy: 0.9613 - val_loss: 0.6483 - val_categorical_accuracy: 0.7865 - val_top_2_accuracy: 0.8960 - val_top_3_accuracy: 0.9480 - lr: 0.0025\n",
      "Epoch 19/30\n",
      "2550/2550 [==============================] - ETA: 0s - loss: 0.6283 - categorical_accuracy: 0.7745 - top_2_accuracy: 0.9155 - top_3_accuracy: 0.9672\n",
      "Epoch 19: val_top_3_accuracy did not improve from 0.95686\n",
      "2550/2550 [==============================] - 561s 220ms/step - loss: 0.6283 - categorical_accuracy: 0.7745 - top_2_accuracy: 0.9155 - top_3_accuracy: 0.9672 - val_loss: 0.6625 - val_categorical_accuracy: 0.7865 - val_top_2_accuracy: 0.8971 - val_top_3_accuracy: 0.9524 - lr: 0.0012\n",
      "Epoch 20/30\n",
      "2550/2550 [==============================] - ETA: 0s - loss: 0.5960 - categorical_accuracy: 0.7820 - top_2_accuracy: 0.9195 - top_3_accuracy: 0.9717\n",
      "Epoch 20: val_top_3_accuracy did not improve from 0.95686\n",
      "\n",
      "Epoch 20: ReduceLROnPlateau reducing learning rate to 0.0006249999860301614.\n",
      "2550/2550 [==============================] - 558s 219ms/step - loss: 0.5960 - categorical_accuracy: 0.7820 - top_2_accuracy: 0.9195 - top_3_accuracy: 0.9717 - val_loss: 0.6611 - val_categorical_accuracy: 0.7898 - val_top_2_accuracy: 0.8938 - val_top_3_accuracy: 0.9491 - lr: 0.0012\n",
      "Epoch 21/30\n",
      "2550/2550 [==============================] - ETA: 0s - loss: 0.5495 - categorical_accuracy: 0.7995 - top_2_accuracy: 0.9317 - top_3_accuracy: 0.9763\n",
      "Epoch 21: val_top_3_accuracy did not improve from 0.95686\n",
      "2550/2550 [==============================] - 565s 222ms/step - loss: 0.5495 - categorical_accuracy: 0.7995 - top_2_accuracy: 0.9317 - top_3_accuracy: 0.9763 - val_loss: 0.6606 - val_categorical_accuracy: 0.7721 - val_top_2_accuracy: 0.8982 - val_top_3_accuracy: 0.9447 - lr: 6.2500e-04\n",
      "Epoch 22/30\n",
      "2550/2550 [==============================] - ETA: 0s - loss: 0.5305 - categorical_accuracy: 0.8056 - top_2_accuracy: 0.9353 - top_3_accuracy: 0.9791\n",
      "Epoch 22: val_top_3_accuracy did not improve from 0.95686\n",
      "\n",
      "Epoch 22: ReduceLROnPlateau reducing learning rate to 0.0003124999930150807.\n",
      "2550/2550 [==============================] - 566s 222ms/step - loss: 0.5305 - categorical_accuracy: 0.8056 - top_2_accuracy: 0.9353 - top_3_accuracy: 0.9791 - val_loss: 0.6875 - val_categorical_accuracy: 0.7777 - val_top_2_accuracy: 0.9004 - val_top_3_accuracy: 0.9480 - lr: 6.2500e-04\n",
      "Epoch 23/30\n",
      "2550/2550 [==============================] - ETA: 0s - loss: 0.5075 - categorical_accuracy: 0.8149 - top_2_accuracy: 0.9402 - top_3_accuracy: 0.9810\n",
      "Epoch 23: val_top_3_accuracy did not improve from 0.95686\n",
      "2550/2550 [==============================] - 572s 224ms/step - loss: 0.5075 - categorical_accuracy: 0.8149 - top_2_accuracy: 0.9402 - top_3_accuracy: 0.9810 - val_loss: 0.6870 - val_categorical_accuracy: 0.7777 - val_top_2_accuracy: 0.8982 - val_top_3_accuracy: 0.9458 - lr: 3.1250e-04\n",
      "Epoch 24/30\n",
      "2550/2550 [==============================] - ETA: 0s - loss: 0.4959 - categorical_accuracy: 0.8227 - top_2_accuracy: 0.9420 - top_3_accuracy: 0.9817\n",
      "Epoch 24: val_top_3_accuracy did not improve from 0.95686\n",
      "\n",
      "Epoch 24: ReduceLROnPlateau reducing learning rate to 0.00015624999650754035.\n",
      "2550/2550 [==============================] - 615s 241ms/step - loss: 0.4959 - categorical_accuracy: 0.8227 - top_2_accuracy: 0.9420 - top_3_accuracy: 0.9817 - val_loss: 0.6962 - val_categorical_accuracy: 0.7732 - val_top_2_accuracy: 0.8982 - val_top_3_accuracy: 0.9480 - lr: 3.1250e-04\n",
      "Epoch 25/30\n",
      "2550/2550 [==============================] - ETA: 0s - loss: 0.4855 - categorical_accuracy: 0.8239 - top_2_accuracy: 0.9424 - top_3_accuracy: 0.9823\n",
      "Epoch 25: val_top_3_accuracy did not improve from 0.95686\n",
      "2550/2550 [==============================] - 631s 248ms/step - loss: 0.4855 - categorical_accuracy: 0.8239 - top_2_accuracy: 0.9424 - top_3_accuracy: 0.9823 - val_loss: 0.6997 - val_categorical_accuracy: 0.7743 - val_top_2_accuracy: 0.8960 - val_top_3_accuracy: 0.9458 - lr: 1.5625e-04\n",
      "Epoch 26/30\n",
      "2550/2550 [==============================] - ETA: 0s - loss: 0.4755 - categorical_accuracy: 0.8319 - top_2_accuracy: 0.9444 - top_3_accuracy: 0.9830\n",
      "Epoch 26: val_top_3_accuracy did not improve from 0.95686\n",
      "\n",
      "Epoch 26: ReduceLROnPlateau reducing learning rate to 7.812499825377017e-05.\n",
      "2550/2550 [==============================] - 625s 245ms/step - loss: 0.4755 - categorical_accuracy: 0.8319 - top_2_accuracy: 0.9444 - top_3_accuracy: 0.9830 - val_loss: 0.7062 - val_categorical_accuracy: 0.7710 - val_top_2_accuracy: 0.8916 - val_top_3_accuracy: 0.9469 - lr: 1.5625e-04\n",
      "Epoch 27/30\n",
      "2550/2550 [==============================] - ETA: 0s - loss: 0.4677 - categorical_accuracy: 0.8293 - top_2_accuracy: 0.9495 - top_3_accuracy: 0.9839\n",
      "Epoch 27: val_top_3_accuracy did not improve from 0.95686\n",
      "2550/2550 [==============================] - 628s 246ms/step - loss: 0.4677 - categorical_accuracy: 0.8293 - top_2_accuracy: 0.9495 - top_3_accuracy: 0.9839 - val_loss: 0.7136 - val_categorical_accuracy: 0.7732 - val_top_2_accuracy: 0.8949 - val_top_3_accuracy: 0.9469 - lr: 7.8125e-05\n",
      "Epoch 28/30\n",
      "2550/2550 [==============================] - ETA: 0s - loss: 0.4625 - categorical_accuracy: 0.8335 - top_2_accuracy: 0.9470 - top_3_accuracy: 0.9841\n",
      "Epoch 28: val_top_3_accuracy did not improve from 0.95686\n",
      "\n",
      "Epoch 28: ReduceLROnPlateau reducing learning rate to 3.9062499126885086e-05.\n",
      "2550/2550 [==============================] - 602s 236ms/step - loss: 0.4625 - categorical_accuracy: 0.8335 - top_2_accuracy: 0.9470 - top_3_accuracy: 0.9841 - val_loss: 0.7036 - val_categorical_accuracy: 0.7732 - val_top_2_accuracy: 0.8927 - val_top_3_accuracy: 0.9480 - lr: 7.8125e-05\n",
      "Epoch 29/30\n",
      "2550/2550 [==============================] - ETA: 0s - loss: 0.4671 - categorical_accuracy: 0.8305 - top_2_accuracy: 0.9449 - top_3_accuracy: 0.9824\n",
      "Epoch 29: val_top_3_accuracy did not improve from 0.95686\n",
      "2550/2550 [==============================] - 600s 235ms/step - loss: 0.4671 - categorical_accuracy: 0.8305 - top_2_accuracy: 0.9449 - top_3_accuracy: 0.9824 - val_loss: 0.7087 - val_categorical_accuracy: 0.7732 - val_top_2_accuracy: 0.8949 - val_top_3_accuracy: 0.9458 - lr: 3.9062e-05\n",
      "Epoch 30/30\n",
      "2550/2550 [==============================] - ETA: 0s - loss: 0.4611 - categorical_accuracy: 0.8348 - top_2_accuracy: 0.9468 - top_3_accuracy: 0.9835\n",
      "Epoch 30: val_top_3_accuracy did not improve from 0.95686\n",
      "\n",
      "Epoch 30: ReduceLROnPlateau reducing learning rate to 1.9531249563442543e-05.\n",
      "2550/2550 [==============================] - 605s 237ms/step - loss: 0.4611 - categorical_accuracy: 0.8348 - top_2_accuracy: 0.9468 - top_3_accuracy: 0.9835 - val_loss: 0.7072 - val_categorical_accuracy: 0.7732 - val_top_2_accuracy: 0.8938 - val_top_3_accuracy: 0.9447 - lr: 3.9062e-05\n"
     ]
    }
   ],
   "source": [
    "filepath = \"xception-134-trial03.keras\"\n",
    "\n",
    "checkpoint = ModelCheckpoint(filepath, monitor='val_top_3_accuracy', verbose=1, \n",
    "                             save_best_only=True, mode='max')\n",
    "\n",
    "reduce_lr = ReduceLROnPlateau(monitor='val_top_3_accuracy', factor=0.5, patience=2, \n",
    "                                   verbose=1, mode='max', min_lr=0.00001)\n",
    "                              \n",
    "callbacks_list = [checkpoint, reduce_lr]\n",
    "\n",
    "history = model.fit(train_batches, steps_per_epoch=train_steps, \n",
    "                              class_weight=class_weights,\n",
    "                    validation_data=valid_batches,\n",
    "                    validation_steps=val_steps,\n",
    "                    epochs=30, verbose=1,\n",
    "                   callbacks=callbacks_list) "
   ]
  },
  {
   "cell_type": "code",
   "execution_count": 76,
   "id": "47d1383e",
   "metadata": {},
   "outputs": [
    {
     "data": {
      "text/plain": [
       "['loss', 'categorical_accuracy', 'top_2_accuracy', 'top_3_accuracy']"
      ]
     },
     "execution_count": 76,
     "metadata": {},
     "output_type": "execute_result"
    }
   ],
   "source": [
    "# get the metric names so we can use evaulate_generator\n",
    "model.metrics_names"
   ]
  },
  {
   "cell_type": "code",
   "execution_count": 78,
   "id": "3dcf08c2",
   "metadata": {},
   "outputs": [
    {
     "name": "stdout",
     "output_type": "stream",
     "text": [
      "911/911 [==============================] - 13s 14ms/step - loss: 0.7071 - categorical_accuracy: 0.7728 - top_2_accuracy: 0.8935 - top_3_accuracy: 0.9440\n",
      "val_loss: 0.7071115374565125\n",
      "val_cat_acc: 0.7727771401405334\n",
      "val_top_2_acc: 0.8935235738754272\n",
      "val_top_3_acc: 0.9440175890922546\n"
     ]
    }
   ],
   "source": [
    "# Here the the last epoch will be used.\n",
    "\n",
    "val_loss, val_cat_acc, val_top_2_acc, val_top_3_acc = \\\n",
    "model.evaluate(test_batches, \n",
    "                        steps=len(df_val))\n",
    "\n",
    "print('val_loss:', val_loss)\n",
    "print('val_cat_acc:', val_cat_acc)\n",
    "print('val_top_2_acc:', val_top_2_acc)\n",
    "print('val_top_3_acc:', val_top_3_acc)"
   ]
  },
  {
   "cell_type": "code",
   "execution_count": 81,
   "id": "d2c70484",
   "metadata": {},
   "outputs": [
    {
     "name": "stdout",
     "output_type": "stream",
     "text": [
      "911/911 [==============================] - 12s 13ms/step - loss: 0.6357 - categorical_accuracy: 0.7816 - top_2_accuracy: 0.8902 - top_3_accuracy: 0.9572\n",
      "val_loss: 0.6357281804084778\n",
      "val_cat_acc: 0.7815587520599365\n",
      "val_top_2_acc: 0.8902305364608765\n",
      "val_top_3_acc: 0.9571899175643921\n"
     ]
    }
   ],
   "source": [
    "# Here the best epoch will be used.\n",
    "\n",
    "model.load_weights('xception-134-trial03.keras')\n",
    "\n",
    "val_loss, val_cat_acc, val_top_2_acc, val_top_3_acc = \\\n",
    "model.evaluate(test_batches, \n",
    "                        steps=len(df_val))\n",
    "\n",
    "print('val_loss:', val_loss)\n",
    "print('val_cat_acc:', val_cat_acc)\n",
    "print('val_top_2_acc:', val_top_2_acc)\n",
    "print('val_top_3_acc:', val_top_3_acc)"
   ]
  },
  {
   "cell_type": "code",
   "execution_count": 82,
   "id": "6d639ba4",
   "metadata": {},
   "outputs": [
    {
     "data": {
      "image/png": "[encoded data removed]",
      "text/plain": [
       "<Figure size 640x480 with 1 Axes>"
      ]
     },
     "metadata": {},
     "output_type": "display_data"
    },
    {
     "data": {
      "image/png": "[encoded data removed]",
      "text/plain": [
       "<Figure size 640x480 with 1 Axes>"
      ]
     },
     "metadata": {},
     "output_type": "display_data"
    },
    {
     "data": {
      "image/png": "[encoded data removed]",
      "text/plain": [
       "<Figure size 640x480 with 1 Axes>"
      ]
     },
     "metadata": {},
     "output_type": "display_data"
    },
    {
     "data": {
      "image/png": "[encoded data removed]",
      "text/plain": [
       "<Figure size 640x480 with 1 Axes>"
      ]
     },
     "metadata": {},
     "output_type": "display_data"
    }
   ],
   "source": [
    "# display the loss and accuracy curves\n",
    "\n",
    "import matplotlib.pyplot as plt\n",
    "\n",
    "acc = history.history['categorical_accuracy']\n",
    "val_acc = history.history['val_categorical_accuracy']\n",
    "loss = history.history['loss']\n",
    "val_loss = history.history['val_loss']\n",
    "train_top2_acc = history.history['top_2_accuracy']\n",
    "val_top2_acc = history.history['val_top_2_accuracy']\n",
    "train_top3_acc = history.history['top_3_accuracy']\n",
    "val_top3_acc = history.history['val_top_3_accuracy']\n",
    "epochs = range(1, len(acc) + 1)\n",
    "\n",
    "plt.plot(epochs, loss, 'bo', label='Training loss')\n",
    "plt.plot(epochs, val_loss, 'b', label='Validation loss')\n",
    "plt.title('Training and validation loss')\n",
    "plt.legend()\n",
    "plt.figure()\n",
    "\n",
    "plt.plot(epochs, acc, 'bo', label='Training cat acc')\n",
    "plt.plot(epochs, val_acc, 'b', label='Validation cat acc')\n",
    "plt.title('Training and validation cat accuracy')\n",
    "plt.legend()\n",
    "plt.figure()\n",
    "\n",
    "plt.plot(epochs, train_top2_acc, 'bo', label='Training top2 acc')\n",
    "plt.plot(epochs, val_top2_acc, 'b', label='Validation top2 acc')\n",
    "plt.title('Training and validation top2 accuracy')\n",
    "plt.legend()\n",
    "plt.figure()\n",
    "\n",
    "\n",
    "plt.plot(epochs, train_top3_acc, 'bo', label='Training top3 acc')\n",
    "plt.plot(epochs, val_top3_acc, 'b', label='Validation top3 acc')\n",
    "plt.title('Training and validation top3 accuracy')\n",
    "plt.legend()\n",
    "\n",
    "\n",
    "\n",
    "plt.show()"
   ]
  },
  {
   "cell_type": "code",
   "execution_count": 83,
   "id": "61d66a67",
   "metadata": {},
   "outputs": [],
   "source": [
    "# Get the labels of the test images.\n",
    "\n",
    "test_labels = test_batches.classes"
   ]
  },
  {
   "cell_type": "code",
   "execution_count": 84,
   "id": "e9dc8abf",
   "metadata": {},
   "outputs": [
    {
     "data": {
      "text/plain": [
       "array([0, 0, 0, 0, 0, 0, 0, 0, 0, 0, 0, 0, 0, 0, 1, 1, 1, 1, 1, 1, 1, 1,\n",
       "       1, 1, 1, 1, 1, 1, 1, 1, 1, 1, 1, 1, 1, 1, 1, 1, 1, 1, 1, 1, 1, 1,\n",
       "       1, 1, 1, 1, 1, 1, 1, 1, 1, 1, 1, 1, 1, 1, 1, 1, 1, 1, 1, 1, 1, 1,\n",
       "       1, 1, 1, 1, 1, 1, 1, 1, 2, 2, 2, 2, 2, 2, 2, 2, 2, 2, 2, 2, 2, 2,\n",
       "       2, 2, 2, 2, 2, 2, 2, 2, 2, 2, 2, 2, 2, 2, 2, 2, 2, 2, 2, 2, 2, 2,\n",
       "       2, 2, 2, 2, 2, 2, 2, 2, 2, 2, 2, 2, 2, 2, 2, 2, 2, 2, 2, 2, 2, 2,\n",
       "       2, 2, 2, 2, 2, 2, 2, 2, 2, 2, 2, 2, 2, 2, 2, 2, 2, 2, 2, 2, 2, 2,\n",
       "       2, 2, 2, 2, 2, 2, 2, 2, 2, 2, 2, 2, 2, 2, 2, 2, 2, 2, 2, 2, 2, 2,\n",
       "       2, 2, 2, 2, 2, 3, 3, 3, 3, 3, 3, 3, 4, 4, 4, 4, 4, 4, 4, 4, 4, 4,\n",
       "       4, 4, 4, 4, 4, 4, 4, 4, 4, 4, 4, 4, 4, 4, 4, 4, 4, 4, 4, 4, 4, 4,\n",
       "       4, 4, 4, 4, 4, 4, 4, 4, 4, 4, 4, 4, 4, 4, 4, 4, 4, 4, 4, 4, 4, 4,\n",
       "       4, 4, 4, 4, 4, 4, 4, 4, 4, 4, 4, 4, 4, 4, 4, 4, 4, 4, 4, 4, 5, 5,\n",
       "       5, 5, 5, 5, 5, 5, 5, 5, 5, 5, 5, 5, 5, 5, 5, 5, 5, 5, 5, 5, 5, 5,\n",
       "       5, 5, 5, 5, 5, 5, 5, 5, 5, 5, 5, 5, 5, 5, 5, 5, 5, 5, 5, 5, 5, 5,\n",
       "       5, 5, 5, 5, 5, 5, 5, 5, 5, 5, 5, 5, 5, 5, 5, 5, 5, 5, 5, 5, 5, 5,\n",
       "       5, 5, 5, 5, 5, 5, 5, 5, 5, 5, 5, 5, 5, 5, 5, 5, 5, 5, 5, 5, 5, 5,\n",
       "       5, 5, 5, 5, 5, 5, 5, 5, 5, 5, 5, 5, 5, 5, 5, 5, 5, 5, 5, 5, 5, 5,\n",
       "       5, 5, 5, 5, 5, 5, 5, 5, 5, 5, 5, 5, 5, 5, 5, 5, 5, 5, 5, 5, 5, 5,\n",
       "       5, 5, 5, 5, 5, 5, 5, 5, 5, 5, 5, 5, 5, 5, 5, 5, 5, 5, 5, 5, 5, 5,\n",
       "       5, 5, 5, 5, 5, 5, 5, 5, 5, 5, 5, 5, 5, 5, 5, 5, 5, 5, 5, 5, 5, 5,\n",
       "       5, 5, 5, 5, 5, 5, 5, 5, 5, 5, 5, 5, 5, 5, 5, 5, 5, 5, 5, 5, 5, 5,\n",
       "       5, 5, 5, 5, 5, 5, 5, 5, 5, 5, 5, 5, 5, 5, 5, 5, 5, 5, 5, 5, 5, 5,\n",
       "       5, 5, 5, 5, 5, 5, 5, 5, 5, 5, 5, 5, 5, 5, 5, 5, 5, 5, 5, 5, 5, 5,\n",
       "       5, 5, 5, 5, 5, 5, 5, 5, 5, 5, 5, 5, 5, 5, 5, 5, 5, 5, 5, 5, 5, 5,\n",
       "       5, 5, 5, 5, 5, 5, 5, 5, 5, 5, 5, 5, 5, 5, 5, 5, 5, 5, 5, 5, 5, 5,\n",
       "       5, 5, 5, 5, 5, 5, 5, 5, 5, 5, 5, 5, 5, 5, 5, 5, 5, 5, 5, 5, 5, 5,\n",
       "       5, 5, 5, 5, 5, 5, 5, 5, 5, 5, 5, 5, 5, 5, 5, 5, 5, 5, 5, 5, 5, 5,\n",
       "       5, 5, 5, 5, 5, 5, 5, 5, 5, 5, 5, 5, 5, 5, 5, 5, 5, 5, 5, 5, 5, 5,\n",
       "       5, 5, 5, 5, 5, 5, 5, 5, 5, 5, 5, 5, 5, 5, 5, 5, 5, 5, 5, 5, 5, 5,\n",
       "       5, 5, 5, 5, 5, 5, 5, 5, 5, 5, 5, 5, 5, 5, 5, 5, 5, 5, 5, 5, 5, 5,\n",
       "       5, 5, 5, 5, 5, 5, 5, 5, 5, 5, 5, 5, 5, 5, 5, 5, 5, 5, 5, 5, 5, 5,\n",
       "       5, 5, 5, 5, 5, 5, 5, 5, 5, 5, 5, 5, 5, 5, 5, 5, 5, 5, 5, 5, 5, 5,\n",
       "       5, 5, 5, 5, 5, 5, 5, 5, 5, 5, 5, 5, 5, 5, 5, 5, 5, 5, 5, 5, 5, 5,\n",
       "       5, 5, 5, 5, 5, 5, 5, 5, 5, 5, 5, 5, 5, 5, 5, 5, 5, 5, 5, 5, 5, 5,\n",
       "       5, 5, 5, 5, 5, 5, 5, 5, 5, 5, 5, 5, 5, 5, 5, 5, 5, 5, 5, 5, 5, 5,\n",
       "       5, 5, 5, 5, 5, 5, 5, 5, 5, 5, 5, 5, 5, 5, 5, 5, 5, 5, 5, 5, 5, 5,\n",
       "       5, 5, 5, 5, 5, 5, 5, 5, 5, 5, 5, 5, 5, 5, 5, 5, 5, 5, 5, 5, 5, 5,\n",
       "       5, 5, 5, 5, 5, 5, 5, 5, 5, 5, 5, 5, 5, 5, 5, 5, 5, 5, 5, 5, 5, 5,\n",
       "       5, 5, 5, 5, 5, 5, 5, 5, 5, 5, 5, 5, 5, 5, 5, 5, 5, 5, 5, 5, 5, 5,\n",
       "       5, 5, 5, 5, 5, 5, 5, 5, 5, 5, 5, 5, 5, 5, 5, 5, 5, 5, 5, 5, 5, 5,\n",
       "       5, 5, 5, 5, 5, 6, 6, 6, 6, 6, 6, 6, 6, 6, 6, 6, 6, 6, 6, 6, 6, 6,\n",
       "       6, 8, 8, 8, 8, 8, 8, 8, 8])"
      ]
     },
     "execution_count": 84,
     "metadata": {},
     "output_type": "execute_result"
    }
   ],
   "source": [
    "# We need these to plot the confusion matrix.\n",
    "test_labels"
   ]
  },
  {
   "cell_type": "code",
   "execution_count": 85,
   "id": "c7672330",
   "metadata": {},
   "outputs": [
    {
     "data": {
      "text/plain": [
       "{'AK': 0,\n",
       " 'BCC': 1,\n",
       " 'BKL': 2,\n",
       " 'DF': 3,\n",
       " 'MEL': 4,\n",
       " 'NV': 5,\n",
       " 'SCC': 6,\n",
       " 'UNK': 7,\n",
       " 'VASC': 8}"
      ]
     },
     "execution_count": 85,
     "metadata": {},
     "output_type": "execute_result"
    }
   ],
   "source": [
    "# Print the label associated with each class\n",
    "test_batches.class_indices"
   ]
  },
  {
   "cell_type": "code",
   "execution_count": 87,
   "id": "909e8010",
   "metadata": {},
   "outputs": [
    {
     "name": "stdout",
     "output_type": "stream",
     "text": [
      "911/911 [==============================] - 10s 11ms/step\n"
     ]
    }
   ],
   "source": [
    "# make a prediction\n",
    "predictions = model.predict(test_batches, steps=len(df_val), verbose=1)"
   ]
  },
  {
   "cell_type": "code",
   "execution_count": 88,
   "id": "dd973292",
   "metadata": {},
   "outputs": [
    {
     "data": {
      "text/plain": [
       "(911, 9)"
      ]
     },
     "execution_count": 88,
     "metadata": {},
     "output_type": "execute_result"
    }
   ],
   "source": [
    "predictions.shape"
   ]
  },
  {
   "cell_type": "code",
   "execution_count": 89,
   "id": "1c37a0bf",
   "metadata": {},
   "outputs": [],
   "source": [
    "# Source: Scikit Learn website\n",
    "# http://scikit-learn.org/stable/auto_examples/\n",
    "# model_selection/plot_confusion_matrix.html#sphx-glr-auto-examples-model-\n",
    "# selection-plot-confusion-matrix-py\n",
    "\n",
    "\n",
    "def plot_confusion_matrix(cm, classes,\n",
    "                          normalize=False,\n",
    "                          title='Confusion matrix',\n",
    "                          cmap=plt.cm.Blues):\n",
    "    \"\"\"\n",
    "    This function prints and plots the confusion matrix.\n",
    "    Normalization can be applied by setting `normalize=True`.\n",
    "    \"\"\"\n",
    "    if normalize:\n",
    "        cm = cm.astype('float') / cm.sum(axis=1)[:, np.newaxis]\n",
    "        print(\"Normalized confusion matrix\")\n",
    "    else:\n",
    "        print('Confusion matrix, without normalization')\n",
    "\n",
    "    print(cm)\n",
    "    \n",
    "    plt.imshow(cm, interpolation='nearest', cmap=cmap)\n",
    "    plt.title(title)\n",
    "    plt.colorbar()\n",
    "    tick_marks = np.arange(len(classes))\n",
    "    plt.xticks(tick_marks, classes, rotation=45)\n",
    "    plt.yticks(tick_marks, classes)\n",
    "\n",
    "    fmt = '.2f' if normalize else 'd'\n",
    "    thresh = cm.max() / 2.\n",
    "    for i, j in itertools.product(range(cm.shape[0]), range(cm.shape[1])):\n",
    "        plt.text(j, i, format(cm[i, j], fmt),\n",
    "                 horizontalalignment=\"center\",\n",
    "                 color=\"white\" if cm[i, j] > thresh else \"black\")\n",
    "\n",
    "    plt.ylabel('True label')\n",
    "    plt.xlabel('Predicted label')\n",
    "    plt.tight_layout()"
   ]
  },
  {
   "cell_type": "code",
   "execution_count": 90,
   "id": "76955948",
   "metadata": {},
   "outputs": [
    {
     "data": {
      "text/plain": [
       "(911,)"
      ]
     },
     "execution_count": 90,
     "metadata": {},
     "output_type": "execute_result"
    }
   ],
   "source": [
    "test_labels.shape"
   ]
  },
  {
   "cell_type": "code",
   "execution_count": 96,
   "id": "fe70fce4",
   "metadata": {},
   "outputs": [
    {
     "name": "stdout",
     "output_type": "stream",
     "text": [
      "[[  7   4   2   0   0   0   1   0]\n",
      " [  3  43   3   0   3   7   0   1]\n",
      " [  5  17  54   0   3  26   1   1]\n",
      " [  0   2   0   2   0   3   0   0]\n",
      " [  0   1  27   0  17  28   0   1]\n",
      " [  1  13  12   0  14 582   0   1]\n",
      " [  0   8   3   0   1   5   1   0]\n",
      " [  0   0   0   0   0   2   0   6]]\n"
     ]
    }
   ],
   "source": [
    "# argmax returns the index of the max value in a row\n",
    "cm = confusion_matrix(test_labels, predictions.argmax(axis=1))\n",
    "print(cm)"
   ]
  },
  {
   "cell_type": "code",
   "execution_count": 92,
   "id": "629217a0",
   "metadata": {},
   "outputs": [
    {
     "data": {
      "text/plain": [
       "{'AK': 0,\n",
       " 'BCC': 1,\n",
       " 'BKL': 2,\n",
       " 'DF': 3,\n",
       " 'MEL': 4,\n",
       " 'NV': 5,\n",
       " 'SCC': 6,\n",
       " 'UNK': 7,\n",
       " 'VASC': 8}"
      ]
     },
     "execution_count": 92,
     "metadata": {},
     "output_type": "execute_result"
    }
   ],
   "source": [
    "test_batches.class_indices"
   ]
  },
  {
   "cell_type": "code",
   "execution_count": 97,
   "id": "76d3a91d",
   "metadata": {},
   "outputs": [
    {
     "name": "stdout",
     "output_type": "stream",
     "text": [
      "Confusion matrix, without normalization\n",
      "[[  7   4   2   0   0   0   1   0]\n",
      " [  3  43   3   0   3   7   0   1]\n",
      " [  5  17  54   0   3  26   1   1]\n",
      " [  0   2   0   2   0   3   0   0]\n",
      " [  0   1  27   0  17  28   0   1]\n",
      " [  1  13  12   0  14 582   0   1]\n",
      " [  0   8   3   0   1   5   1   0]\n",
      " [  0   0   0   0   0   2   0   6]]\n"
     ]
    },
    {
     "data": {
      "image/png": "[encoded data removed]",
      "text/plain": [
       "<Figure size 640x480 with 2 Axes>"
      ]
     },
     "metadata": {},
     "output_type": "display_data"
    }
   ],
   "source": [
    "# Define the labels of the class indices. These need to match the \n",
    "# order shown above.\n",
    "cm_plot_labels = ['AK', 'BCC', 'BKL', 'DF', 'MEL','NV', 'SCC', 'UNK']\n",
    "\n",
    "plot_confusion_matrix(cm, cm_plot_labels, title='Confusion Matrix')"
   ]
  },
  {
   "cell_type": "code",
   "execution_count": 98,
   "id": "0936a1a6",
   "metadata": {},
   "outputs": [],
   "source": [
    "# Get the index of the class with the highest probability score\n",
    "y_pred = np.argmax(predictions, axis=1)\n",
    "\n",
    "# Get the labels of the test images.\n",
    "y_true = test_batches.classes"
   ]
  },
  {
   "cell_type": "code",
   "execution_count": 99,
   "id": "18f1df8c",
   "metadata": {},
   "outputs": [
    {
     "name": "stdout",
     "output_type": "stream",
     "text": [
      "              precision    recall  f1-score   support\n",
      "\n",
      "          AK       0.44      0.50      0.47        14\n",
      "         BCC       0.49      0.72      0.58        60\n",
      "         BKL       0.53      0.50      0.52       107\n",
      "          DF       1.00      0.29      0.44         7\n",
      "         MEL       0.45      0.23      0.30        74\n",
      "          NV       0.89      0.93      0.91       623\n",
      "         SCC       0.33      0.06      0.10        18\n",
      "         UNK       0.60      0.75      0.67         8\n",
      "\n",
      "    accuracy                           0.78       911\n",
      "   macro avg       0.59      0.50      0.50       911\n",
      "weighted avg       0.77      0.78      0.77       911\n",
      "\n"
     ]
    }
   ],
   "source": [
    "from sklearn.metrics import classification_report\n",
    "\n",
    "# Generate a classification report\n",
    "report = classification_report(y_true, y_pred, target_names=cm_plot_labels)\n",
    "\n",
    "print(report)"
   ]
  },
  {
   "cell_type": "code",
   "execution_count": null,
   "id": "435256d8",
   "metadata": {},
   "outputs": [],
   "source": []
  },
  {
   "cell_type": "code",
   "execution_count": null,
   "id": "0f61c1c6",
   "metadata": {},
   "outputs": [],
   "source": []
  },
  {
   "cell_type": "code",
   "execution_count": null,
   "id": "d47c53b0",
   "metadata": {},
   "outputs": [],
   "source": []
  }
 ],
 "metadata": {
  "kernelspec": {
   "display_name": "Python 3 (ipykernel)",
   "language": "python",
   "name": "python3"
  },
  "language_info": {
   "codemirror_mode": {
    "name": "ipython",
    "version": 3
   },
   "file_extension": ".py",
   "mimetype": "text/x-python",
   "name": "python",
   "nbconvert_exporter": "python",
   "pygments_lexer": "ipython3",
   "version": "3.10.9"
  }
 },
 "nbformat": 4,
 "nbformat_minor": 5
}
